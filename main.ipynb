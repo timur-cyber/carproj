{
 "cells": [
  {
   "cell_type": "markdown",
   "id": "5c657d85-91c8-4854-946b-af3448e2b91c",
   "metadata": {},
   "source": [
    "# Data Science & Machine Learning - Car price prediction project"
   ]
  },
  {
   "cell_type": "markdown",
   "id": "a5de515a-60b7-4f4e-86e8-c5e3934f95d7",
   "metadata": {},
   "source": [
    "## Data science"
   ]
  },
  {
   "cell_type": "markdown",
   "id": "b7bbdee7-1f8e-4764-960e-d373cc9c214d",
   "metadata": {},
   "source": [
    "### Filtering dataset"
   ]
  },
  {
   "cell_type": "code",
   "execution_count": 1,
   "id": "initial_id",
   "metadata": {},
   "outputs": [],
   "source": [
    "import numpy as np\n",
    "import pandas as pd\n",
    "import matplotlib.pyplot as plt\n",
    "import seaborn as sns\n",
    "import joblib"
   ]
  },
  {
   "cell_type": "code",
   "execution_count": 2,
   "id": "f6e09ca5-c362-4f07-9681-5c31a0deed5c",
   "metadata": {},
   "outputs": [],
   "source": [
    "df = pd.read_excel('../data/carset_formatted.xlsx')"
   ]
  },
  {
   "cell_type": "code",
   "execution_count": 3,
   "id": "ca088a69-f9c0-4875-bcd7-510ee92633cb",
   "metadata": {},
   "outputs": [
    {
     "data": {
      "text/html": [
       "<div>\n",
       "<style scoped>\n",
       "    .dataframe tbody tr th:only-of-type {\n",
       "        vertical-align: middle;\n",
       "    }\n",
       "\n",
       "    .dataframe tbody tr th {\n",
       "        vertical-align: top;\n",
       "    }\n",
       "\n",
       "    .dataframe thead th {\n",
       "        text-align: right;\n",
       "    }\n",
       "</style>\n",
       "<table border=\"1\" class=\"dataframe\">\n",
       "  <thead>\n",
       "    <tr style=\"text-align: right;\">\n",
       "      <th></th>\n",
       "      <th>Модель</th>\n",
       "      <th>Год выпуска</th>\n",
       "      <th>Коробка передач</th>\n",
       "      <th>Цвет</th>\n",
       "      <th>Вид топлива</th>\n",
       "      <th>Состояние машины</th>\n",
       "      <th>Пробег (км)</th>\n",
       "      <th>Цена ($)</th>\n",
       "    </tr>\n",
       "  </thead>\n",
       "  <tbody>\n",
       "    <tr>\n",
       "      <th>0</th>\n",
       "      <td>Nexia</td>\n",
       "      <td>2017</td>\n",
       "      <td>Автоматическая</td>\n",
       "      <td>Серебристый</td>\n",
       "      <td>Бензин</td>\n",
       "      <td>Отличное</td>\n",
       "      <td>39500.0</td>\n",
       "      <td>11800.0</td>\n",
       "    </tr>\n",
       "    <tr>\n",
       "      <th>1</th>\n",
       "      <td>Matiz</td>\n",
       "      <td>2011</td>\n",
       "      <td>Механическая</td>\n",
       "      <td>Белый</td>\n",
       "      <td>Бензин</td>\n",
       "      <td>Отличное</td>\n",
       "      <td>208000.0</td>\n",
       "      <td>6500.0</td>\n",
       "    </tr>\n",
       "    <tr>\n",
       "      <th>2</th>\n",
       "      <td>Lacetti</td>\n",
       "      <td>2022</td>\n",
       "      <td>Механическая</td>\n",
       "      <td>Черный</td>\n",
       "      <td>Бензин</td>\n",
       "      <td>Отличное</td>\n",
       "      <td>0.0</td>\n",
       "      <td>11851.0</td>\n",
       "    </tr>\n",
       "    <tr>\n",
       "      <th>3</th>\n",
       "      <td>Lacetti</td>\n",
       "      <td>2019</td>\n",
       "      <td>Автоматическая</td>\n",
       "      <td>Белый</td>\n",
       "      <td>Бензин</td>\n",
       "      <td>Отличное</td>\n",
       "      <td>74000.0</td>\n",
       "      <td>14500.0</td>\n",
       "    </tr>\n",
       "    <tr>\n",
       "      <th>4</th>\n",
       "      <td>Damas</td>\n",
       "      <td>2017</td>\n",
       "      <td>Механическая</td>\n",
       "      <td>Белый</td>\n",
       "      <td>Бензин</td>\n",
       "      <td>Отличное</td>\n",
       "      <td>166000.0</td>\n",
       "      <td>8300.0</td>\n",
       "    </tr>\n",
       "    <tr>\n",
       "      <th>...</th>\n",
       "      <td>...</td>\n",
       "      <td>...</td>\n",
       "      <td>...</td>\n",
       "      <td>...</td>\n",
       "      <td>...</td>\n",
       "      <td>...</td>\n",
       "      <td>...</td>\n",
       "      <td>...</td>\n",
       "    </tr>\n",
       "    <tr>\n",
       "      <th>16846</th>\n",
       "      <td>Lacetti</td>\n",
       "      <td>2014</td>\n",
       "      <td>Автоматическая</td>\n",
       "      <td>Белый</td>\n",
       "      <td>Газ/Бензин</td>\n",
       "      <td>Отличное</td>\n",
       "      <td>175000.0</td>\n",
       "      <td>11800.0</td>\n",
       "    </tr>\n",
       "    <tr>\n",
       "      <th>16847</th>\n",
       "      <td>Lacetti</td>\n",
       "      <td>2023</td>\n",
       "      <td>Механическая</td>\n",
       "      <td>Белый</td>\n",
       "      <td>Бензин</td>\n",
       "      <td>Отличное</td>\n",
       "      <td>NaN</td>\n",
       "      <td>11851.0</td>\n",
       "    </tr>\n",
       "    <tr>\n",
       "      <th>16848</th>\n",
       "      <td>Lacetti</td>\n",
       "      <td>2022</td>\n",
       "      <td>Автоматическая</td>\n",
       "      <td>Черный</td>\n",
       "      <td>Бензин</td>\n",
       "      <td>Отличное</td>\n",
       "      <td>29000.0</td>\n",
       "      <td>16400.0</td>\n",
       "    </tr>\n",
       "    <tr>\n",
       "      <th>16849</th>\n",
       "      <td>Lacetti</td>\n",
       "      <td>2023</td>\n",
       "      <td>Автоматическая</td>\n",
       "      <td>Черный</td>\n",
       "      <td>Бензин</td>\n",
       "      <td>Отличное</td>\n",
       "      <td>0.0</td>\n",
       "      <td>17200.0</td>\n",
       "    </tr>\n",
       "    <tr>\n",
       "      <th>16850</th>\n",
       "      <td>Lacetti</td>\n",
       "      <td>2023</td>\n",
       "      <td>Механическая</td>\n",
       "      <td>Черный</td>\n",
       "      <td>Бензин</td>\n",
       "      <td>Отличное</td>\n",
       "      <td>300.0</td>\n",
       "      <td>15625.0</td>\n",
       "    </tr>\n",
       "  </tbody>\n",
       "</table>\n",
       "<p>16851 rows × 8 columns</p>\n",
       "</div>"
      ],
      "text/plain": [
       "        Модель  Год выпуска Коробка передач         Цвет Вид топлива  \\\n",
       "0        Nexia         2017  Автоматическая  Серебристый      Бензин   \n",
       "1        Matiz         2011    Механическая        Белый      Бензин   \n",
       "2      Lacetti         2022    Механическая       Черный      Бензин   \n",
       "3      Lacetti         2019  Автоматическая        Белый      Бензин   \n",
       "4        Damas         2017    Механическая        Белый      Бензин   \n",
       "...        ...          ...             ...          ...         ...   \n",
       "16846  Lacetti         2014  Автоматическая        Белый  Газ/Бензин   \n",
       "16847  Lacetti         2023    Механическая        Белый      Бензин   \n",
       "16848  Lacetti         2022  Автоматическая       Черный      Бензин   \n",
       "16849  Lacetti         2023  Автоматическая       Черный      Бензин   \n",
       "16850  Lacetti         2023    Механическая       Черный      Бензин   \n",
       "\n",
       "      Состояние машины  Пробег (км)  Цена ($)  \n",
       "0             Отличное      39500.0   11800.0  \n",
       "1             Отличное     208000.0    6500.0  \n",
       "2             Отличное          0.0   11851.0  \n",
       "3             Отличное      74000.0   14500.0  \n",
       "4             Отличное     166000.0    8300.0  \n",
       "...                ...          ...       ...  \n",
       "16846         Отличное     175000.0   11800.0  \n",
       "16847         Отличное          NaN   11851.0  \n",
       "16848         Отличное      29000.0   16400.0  \n",
       "16849         Отличное          0.0   17200.0  \n",
       "16850         Отличное        300.0   15625.0  \n",
       "\n",
       "[16851 rows x 8 columns]"
      ]
     },
     "execution_count": 3,
     "metadata": {},
     "output_type": "execute_result"
    }
   ],
   "source": [
    "df"
   ]
  },
  {
   "cell_type": "code",
   "execution_count": 4,
   "id": "547046a7-5118-4c96-b806-87b2096f521a",
   "metadata": {},
   "outputs": [
    {
     "name": "stdout",
     "output_type": "stream",
     "text": [
      "<class 'pandas.core.frame.DataFrame'>\n",
      "RangeIndex: 16851 entries, 0 to 16850\n",
      "Data columns (total 8 columns):\n",
      " #   Column            Non-Null Count  Dtype  \n",
      "---  ------            --------------  -----  \n",
      " 0   Модель            16851 non-null  object \n",
      " 1   Год выпуска       16851 non-null  int64  \n",
      " 2   Коробка передач   16838 non-null  object \n",
      " 3   Цвет              16838 non-null  object \n",
      " 4   Вид топлива       16838 non-null  object \n",
      " 5   Состояние машины  16838 non-null  object \n",
      " 6   Пробег (км)       16432 non-null  float64\n",
      " 7   Цена ($)          16828 non-null  float64\n",
      "dtypes: float64(2), int64(1), object(5)\n",
      "memory usage: 1.0+ MB\n"
     ]
    }
   ],
   "source": [
    "df.info()"
   ]
  },
  {
   "cell_type": "code",
   "execution_count": 5,
   "id": "23ef472b-4ead-42c7-8838-ab96d4174474",
   "metadata": {},
   "outputs": [
    {
     "data": {
      "text/html": [
       "<div>\n",
       "<style scoped>\n",
       "    .dataframe tbody tr th:only-of-type {\n",
       "        vertical-align: middle;\n",
       "    }\n",
       "\n",
       "    .dataframe tbody tr th {\n",
       "        vertical-align: top;\n",
       "    }\n",
       "\n",
       "    .dataframe thead th {\n",
       "        text-align: right;\n",
       "    }\n",
       "</style>\n",
       "<table border=\"1\" class=\"dataframe\">\n",
       "  <thead>\n",
       "    <tr style=\"text-align: right;\">\n",
       "      <th></th>\n",
       "      <th>Год выпуска</th>\n",
       "      <th>Пробег (км)</th>\n",
       "      <th>Цена ($)</th>\n",
       "    </tr>\n",
       "  </thead>\n",
       "  <tbody>\n",
       "    <tr>\n",
       "      <th>count</th>\n",
       "      <td>16851.000000</td>\n",
       "      <td>1.643200e+04</td>\n",
       "      <td>16828.000000</td>\n",
       "    </tr>\n",
       "    <tr>\n",
       "      <th>mean</th>\n",
       "      <td>2017.378316</td>\n",
       "      <td>7.031865e+04</td>\n",
       "      <td>18075.237996</td>\n",
       "    </tr>\n",
       "    <tr>\n",
       "      <th>std</th>\n",
       "      <td>56.264825</td>\n",
       "      <td>1.433720e+05</td>\n",
       "      <td>13327.901665</td>\n",
       "    </tr>\n",
       "    <tr>\n",
       "      <th>min</th>\n",
       "      <td>0.000000</td>\n",
       "      <td>0.000000e+00</td>\n",
       "      <td>1.000000</td>\n",
       "    </tr>\n",
       "    <tr>\n",
       "      <th>25%</th>\n",
       "      <td>2015.000000</td>\n",
       "      <td>0.000000e+00</td>\n",
       "      <td>10000.000000</td>\n",
       "    </tr>\n",
       "    <tr>\n",
       "      <th>50%</th>\n",
       "      <td>2021.000000</td>\n",
       "      <td>2.555000e+04</td>\n",
       "      <td>14500.000000</td>\n",
       "    </tr>\n",
       "    <tr>\n",
       "      <th>75%</th>\n",
       "      <td>2023.000000</td>\n",
       "      <td>1.000000e+05</td>\n",
       "      <td>22900.000000</td>\n",
       "    </tr>\n",
       "    <tr>\n",
       "      <th>max</th>\n",
       "      <td>2025.000000</td>\n",
       "      <td>6.000000e+06</td>\n",
       "      <td>115000.000000</td>\n",
       "    </tr>\n",
       "  </tbody>\n",
       "</table>\n",
       "</div>"
      ],
      "text/plain": [
       "        Год выпуска   Пробег (км)       Цена ($)\n",
       "count  16851.000000  1.643200e+04   16828.000000\n",
       "mean    2017.378316  7.031865e+04   18075.237996\n",
       "std       56.264825  1.433720e+05   13327.901665\n",
       "min        0.000000  0.000000e+00       1.000000\n",
       "25%     2015.000000  0.000000e+00   10000.000000\n",
       "50%     2021.000000  2.555000e+04   14500.000000\n",
       "75%     2023.000000  1.000000e+05   22900.000000\n",
       "max     2025.000000  6.000000e+06  115000.000000"
      ]
     },
     "execution_count": 5,
     "metadata": {},
     "output_type": "execute_result"
    }
   ],
   "source": [
    "df.describe()"
   ]
  },
  {
   "cell_type": "code",
   "execution_count": 6,
   "id": "fc304a73-0614-49f2-9b6a-fe5329004c4f",
   "metadata": {},
   "outputs": [
    {
     "data": {
      "text/plain": [
       "Модель\n",
       "Lacetti        1581\n",
       "Cobalt         1539\n",
       "Spark          1438\n",
       "Nexia          1434\n",
       "Damas          1406\n",
       "Tracker        1377\n",
       "Malibu         1352\n",
       "Matiz          1352\n",
       "Captiva        1338\n",
       "Monza          1319\n",
       "Equinox        1154\n",
       "Epica           569\n",
       "Tahoe           356\n",
       "Orlando         284\n",
       "Trailblazer     281\n",
       "Другая           57\n",
       "Chevelle          4\n",
       "Aveo              3\n",
       "Cruze             2\n",
       "2500              2\n",
       "Niva              1\n",
       "Beretta           1\n",
       "Van               1\n",
       "Name: count, dtype: int64"
      ]
     },
     "execution_count": 6,
     "metadata": {},
     "output_type": "execute_result"
    }
   ],
   "source": [
    "df.value_counts('Модель')"
   ]
  },
  {
   "cell_type": "code",
   "execution_count": 7,
   "id": "2cc18ffc-2bde-4f2f-856f-0d6bfbdb4ca3",
   "metadata": {},
   "outputs": [],
   "source": [
    "excluded_cars = ['Van', 'Beretta', 'Niva', '2500', 'Cruze', 'Aveo', 'Chevelle', 'Другая']\n",
    "excluded_df = df[df.isin(excluded_cars)]"
   ]
  },
  {
   "cell_type": "code",
   "execution_count": 8,
   "id": "3403eb8f-5e3f-43ec-9546-e5b802cccc91",
   "metadata": {},
   "outputs": [],
   "source": [
    "df = df[~df['Модель'].isin(excluded_cars)] # Excluding cars"
   ]
  },
  {
   "cell_type": "code",
   "execution_count": 9,
   "id": "1631b149-afb6-4218-a16c-865cf34797c2",
   "metadata": {},
   "outputs": [],
   "source": [
    "df = df[~df['Цена ($)'].isnull()] # Excluding objects with no label"
   ]
  },
  {
   "cell_type": "code",
   "execution_count": 10,
   "id": "9c70a783-f1c0-49af-9d6b-1921a5054f0c",
   "metadata": {},
   "outputs": [
    {
     "data": {
      "text/plain": [
       "414"
      ]
     },
     "execution_count": 10,
     "metadata": {},
     "output_type": "execute_result"
    }
   ],
   "source": [
    "len(df) - len(df.dropna())"
   ]
  },
  {
   "cell_type": "code",
   "execution_count": 11,
   "id": "63275b73-2443-4a8a-8d72-60d61d883437",
   "metadata": {},
   "outputs": [],
   "source": [
    "df = df.dropna()"
   ]
  },
  {
   "cell_type": "code",
   "execution_count": 12,
   "id": "64fc694b-6775-4feb-a928-b159b6e800e6",
   "metadata": {},
   "outputs": [
    {
     "data": {
      "text/html": [
       "<div>\n",
       "<style scoped>\n",
       "    .dataframe tbody tr th:only-of-type {\n",
       "        vertical-align: middle;\n",
       "    }\n",
       "\n",
       "    .dataframe tbody tr th {\n",
       "        vertical-align: top;\n",
       "    }\n",
       "\n",
       "    .dataframe thead th {\n",
       "        text-align: right;\n",
       "    }\n",
       "</style>\n",
       "<table border=\"1\" class=\"dataframe\">\n",
       "  <thead>\n",
       "    <tr style=\"text-align: right;\">\n",
       "      <th></th>\n",
       "      <th>Модель</th>\n",
       "      <th>Год выпуска</th>\n",
       "      <th>Коробка передач</th>\n",
       "      <th>Цвет</th>\n",
       "      <th>Вид топлива</th>\n",
       "      <th>Состояние машины</th>\n",
       "      <th>Пробег (км)</th>\n",
       "      <th>Цена ($)</th>\n",
       "    </tr>\n",
       "  </thead>\n",
       "  <tbody>\n",
       "    <tr>\n",
       "      <th>965</th>\n",
       "      <td>Damas</td>\n",
       "      <td>1992</td>\n",
       "      <td>Механическая</td>\n",
       "      <td>Белый</td>\n",
       "      <td>Бензин</td>\n",
       "      <td>Хорошее</td>\n",
       "      <td>280000.0</td>\n",
       "      <td>3290.0</td>\n",
       "    </tr>\n",
       "    <tr>\n",
       "      <th>2664</th>\n",
       "      <td>Damas</td>\n",
       "      <td>1992</td>\n",
       "      <td>Механическая</td>\n",
       "      <td>Белый</td>\n",
       "      <td>Бензин</td>\n",
       "      <td>Хорошее</td>\n",
       "      <td>280000.0</td>\n",
       "      <td>3290.0</td>\n",
       "    </tr>\n",
       "    <tr>\n",
       "      <th>803</th>\n",
       "      <td>Captiva</td>\n",
       "      <td>1913</td>\n",
       "      <td>Автоматическая</td>\n",
       "      <td>Белый</td>\n",
       "      <td>Бензин</td>\n",
       "      <td>Отличное</td>\n",
       "      <td>140000.0</td>\n",
       "      <td>19500.0</td>\n",
       "    </tr>\n",
       "    <tr>\n",
       "      <th>6141</th>\n",
       "      <td>Captiva</td>\n",
       "      <td>1913</td>\n",
       "      <td>Автоматическая</td>\n",
       "      <td>Белый</td>\n",
       "      <td>Бензин</td>\n",
       "      <td>Отличное</td>\n",
       "      <td>140000.0</td>\n",
       "      <td>19500.0</td>\n",
       "    </tr>\n",
       "  </tbody>\n",
       "</table>\n",
       "</div>"
      ],
      "text/plain": [
       "       Модель  Год выпуска Коробка передач   Цвет Вид топлива  \\\n",
       "965     Damas         1992    Механическая  Белый      Бензин   \n",
       "2664    Damas         1992    Механическая  Белый      Бензин   \n",
       "803   Captiva         1913  Автоматическая  Белый      Бензин   \n",
       "6141  Captiva         1913  Автоматическая  Белый      Бензин   \n",
       "\n",
       "     Состояние машины  Пробег (км)  Цена ($)  \n",
       "965           Хорошее     280000.0    3290.0  \n",
       "2664          Хорошее     280000.0    3290.0  \n",
       "803          Отличное     140000.0   19500.0  \n",
       "6141         Отличное     140000.0   19500.0  "
      ]
     },
     "execution_count": 12,
     "metadata": {},
     "output_type": "execute_result"
    }
   ],
   "source": [
    "df_sorted = df.sort_values(by='Год выпуска', ascending=False)\n",
    "df_sorted.tail(4)"
   ]
  },
  {
   "cell_type": "code",
   "execution_count": 13,
   "id": "b386a87d-6e53-4e74-922c-9cf15ca01061",
   "metadata": {},
   "outputs": [],
   "source": [
    "last_4 = df_sorted.tail(4).index\n",
    "df = df.drop(last_4)"
   ]
  },
  {
   "cell_type": "code",
   "execution_count": 14,
   "id": "5c8146c0-8be7-40fe-83b8-80dd28031ad8",
   "metadata": {},
   "outputs": [],
   "source": [
    "df.to_excel('../data/carset_clean.xlsx', index=False)"
   ]
  },
  {
   "cell_type": "markdown",
   "id": "ee609fd2-426a-46d4-816f-8e919e101608",
   "metadata": {},
   "source": [
    "### Plotting graphs & analyzing dataset"
   ]
  },
  {
   "cell_type": "code",
   "execution_count": 15,
   "id": "c76e6459-ffb7-4755-aa6f-077d3f9c501f",
   "metadata": {},
   "outputs": [],
   "source": [
    "import warnings\n",
    "warnings.simplefilter('ignore')"
   ]
  },
  {
   "cell_type": "code",
   "execution_count": 16,
   "id": "c916e880-fb3b-4da8-b72e-1422f761e7c3",
   "metadata": {},
   "outputs": [],
   "source": [
    "# plt.figure(figsize=(10, 6), dpi=100)\n",
    "\n",
    "# model_count = df.value_counts('Модель')\n",
    "# model_count = model_count.sort_values(ascending=True)\n",
    "\n",
    "# sns.barplot(x=model_count.keys(), y=model_count.values)\n",
    "\n",
    "# plt.title('Кол-во разных Моделей машин (отсортировано)')\n",
    "# plt.xticks(rotation=90)\n",
    "# plt.show()"
   ]
  },
  {
   "cell_type": "code",
   "execution_count": 17,
   "id": "09085c62-750e-4b66-bd3c-13bba74deb68",
   "metadata": {},
   "outputs": [
    {
     "data": {
      "image/png": "[encoded data removed]",
      "text/plain": [
       "<Figure size 1000x600 with 1 Axes>"
      ]
     },
     "metadata": {},
     "output_type": "display_data"
    }
   ],
   "source": [
    "plt.figure(figsize=(10, 6), dpi=100)\n",
    "\n",
    "sns.countplot(data=df, x='Модель')\n",
    " \n",
    "plt.title('Кол-во разных Моделей машин')\n",
    "plt.xticks(rotation=90)\n",
    "plt.show()"
   ]
  },
  {
   "cell_type": "code",
   "execution_count": 18,
   "id": "b628ac07-a932-4fa8-b528-b232184ff945",
   "metadata": {},
   "outputs": [],
   "source": [
    "mean_prices = df.groupby('Модель')['Цена ($)'].mean().reset_index()"
   ]
  },
  {
   "cell_type": "code",
   "execution_count": 19,
   "id": "dfcb0fe0-fc51-4978-9a02-3c063d76e371",
   "metadata": {},
   "outputs": [],
   "source": [
    "mean_prices = mean_prices.sort_values('Цена ($)').reset_index()"
   ]
  },
  {
   "cell_type": "code",
   "execution_count": 20,
   "id": "70aa713c-f87a-4d9b-9a16-da53afddc76b",
   "metadata": {},
   "outputs": [
    {
     "data": {
      "image/png": "[encoded data removed]",
      "text/plain": [
       "<Figure size 1000x600 with 1 Axes>"
      ]
     },
     "metadata": {},
     "output_type": "display_data"
    }
   ],
   "source": [
    "plt.figure(figsize=(10, 6), dpi=100)\n",
    "\n",
    "sns.barplot(x='Модель', y='Цена ($)', data=mean_prices, palette='viridis')\n",
    "\n",
    "plt.title('Модели отсортированные по цене')\n",
    "plt.xticks(rotation=90)\n",
    "plt.show()"
   ]
  },
  {
   "cell_type": "code",
   "execution_count": 21,
   "id": "bdc46c50-fe18-4101-a186-c8cc3b939c1d",
   "metadata": {},
   "outputs": [
    {
     "data": {
      "image/png": "[encoded data removed]",
      "text/plain": [
       "<Figure size 1200x400 with 2 Axes>"
      ]
     },
     "metadata": {},
     "output_type": "display_data"
    }
   ],
   "source": [
    "plt.figure(figsize=(12, 4))\n",
    "\n",
    "plt.subplot(1, 2, 1)\n",
    "sns.countplot(data=df, x='Цвет')\n",
    "plt.title('Кол-во разных Цветов машин')\n",
    "plt.xticks(rotation=90)\n",
    "\n",
    "plt.subplot(1, 2, 2)\n",
    "plt_df = df[~df.isin(['Белый', 'Черный'])]\n",
    "sns.countplot(data=plt_df, x='Цвет')\n",
    "plt.title('Кол-во разных Цветов машин (без Белого и Чёрного)')\n",
    "plt.xticks(rotation=90)\n",
    "\n",
    "\n",
    "plt.show()"
   ]
  },
  {
   "cell_type": "code",
   "execution_count": 22,
   "id": "d544feff-0afe-4381-b269-e77b4a2417f3",
   "metadata": {},
   "outputs": [
    {
     "data": {
      "image/png": "[encoded data removed]",
      "text/plain": [
       "<Figure size 1200x400 with 1 Axes>"
      ]
     },
     "metadata": {},
     "output_type": "display_data"
    }
   ],
   "source": [
    "plt.figure(figsize=(12, 4))\n",
    "\n",
    "plt.subplot(1, 2, 1)\n",
    "sns.countplot(data=plt_df, x='Цвет')\n",
    "plt.title('Кол-во разных Цветов машин (Акцент на редкие цвета)')\n",
    "plt.xticks(rotation=90)\n",
    "plt.ylim(0, 150)\n",
    "\n",
    "plt.show()"
   ]
  },
  {
   "cell_type": "code",
   "execution_count": 23,
   "id": "64439888-2b66-4d0c-830a-1a6d55e891c5",
   "metadata": {},
   "outputs": [
    {
     "data": {
      "image/png": "[encoded data removed]",
      "text/plain": [
       "<Figure size 640x480 with 1 Axes>"
      ]
     },
     "metadata": {},
     "output_type": "display_data"
    }
   ],
   "source": [
    "sns.scatterplot(data=df, x='Год выпуска', y='Цена ($)', alpha=0.5)\n",
    "\n",
    "# plt.xlim(1990, 2025)\n",
    "plt.title('Отношения Года выпуска к Стоимости')\n",
    "plt.show()"
   ]
  },
  {
   "cell_type": "code",
   "execution_count": 24,
   "id": "2d2425b9-7707-4b68-a01a-73ab07d0e515",
   "metadata": {},
   "outputs": [
    {
     "data": {
      "image/png": "[encoded data removed]",
      "text/plain": [
       "<Figure size 640x480 with 1 Axes>"
      ]
     },
     "metadata": {},
     "output_type": "display_data"
    }
   ],
   "source": [
    "sns.histplot(data=df, x='Год выпуска', color='red', alpha=0.4, bins=4, lw=2)\n",
    "\n",
    "plt.title('График выпуска машин по годам')\n",
    "plt.show()"
   ]
  },
  {
   "cell_type": "code",
   "execution_count": 25,
   "id": "967b677d-b7e6-4b9f-99ec-3f19b9787af9",
   "metadata": {},
   "outputs": [
    {
     "data": {
      "image/png": "[encoded data removed]",
      "text/plain": [
       "<Figure size 1000x600 with 2 Axes>"
      ]
     },
     "metadata": {},
     "output_type": "display_data"
    }
   ],
   "source": [
    "plt.figure(figsize=(10, 6), dpi=100)\n",
    "\n",
    "heatmap_df = df[['Год выпуска', 'Пробег (км)', 'Цена ($)']]\n",
    "heatmap_df\n",
    "sns.heatmap(data=heatmap_df.corr())\n",
    "\n",
    "plt.show()"
   ]
  },
  {
   "cell_type": "markdown",
   "id": "8a97018d-1370-4163-b530-35719b019384",
   "metadata": {},
   "source": [
    "## Machine Learning"
   ]
  },
  {
   "cell_type": "code",
   "execution_count": 26,
   "id": "02a5e6a6-2490-4cc7-b185-f72d4be3f608",
   "metadata": {},
   "outputs": [],
   "source": [
    "df = pd.get_dummies(df)"
   ]
  },
  {
   "cell_type": "code",
   "execution_count": 27,
   "id": "073507ee-4398-4fb9-8efc-f64686b0da7a",
   "metadata": {},
   "outputs": [],
   "source": [
    "from sklearn.metrics import mean_squared_error, mean_absolute_error"
   ]
  },
  {
   "cell_type": "code",
   "execution_count": 28,
   "id": "0dc9dfe5-2e1e-478b-b816-59e209a02004",
   "metadata": {},
   "outputs": [],
   "source": [
    "def show_stat(y_test, y_pred):\n",
    "    # Absolute\n",
    "    MAE = mean_absolute_error(y_test,y_pred)\n",
    "    MSE = mean_squared_error(y_test,y_pred)\n",
    "    RMSE = np.sqrt(MSE)\n",
    "    print(\"MAE: {}\".format(MAE))\n",
    "    print(\"RMSE: {}\".format(RMSE))\n",
    "    # Percentage\n",
    "    pc = MAE * 100 / np.mean(df['Цена ($)'])\n",
    "    pc = round(pc, 1)\n",
    "    print('Absolute Error Percentage: {}%'.format(pc))\n",
    "    pc2 = RMSE * 100 / np.mean(df['Цена ($)'])\n",
    "    pc2 = round(pc2, 1)\n",
    "    print('Quadratic Error Percentage: {}%'.format(pc2))"
   ]
  },
  {
   "cell_type": "markdown",
   "id": "2c6899be-9530-43d4-8901-0e415b82b325",
   "metadata": {},
   "source": [
    "### Linear Regression"
   ]
  },
  {
   "cell_type": "code",
   "execution_count": 29,
   "id": "259926be-2ead-4d3e-bea3-61f730f8cb6d",
   "metadata": {},
   "outputs": [],
   "source": [
    "from sklearn.model_selection import train_test_split"
   ]
  },
  {
   "cell_type": "code",
   "execution_count": 30,
   "id": "42892019-0d3c-4b12-b39b-a34a33460dfd",
   "metadata": {},
   "outputs": [],
   "source": [
    "X = df.drop('Цена ($)', axis=1)\n",
    "y = df['Цена ($)']"
   ]
  },
  {
   "cell_type": "code",
   "execution_count": 31,
   "id": "a68a829d-8cfb-4650-9cd0-9c461d5dec2d",
   "metadata": {},
   "outputs": [],
   "source": [
    "from sklearn.preprocessing import StandardScaler\n",
    "scaler = StandardScaler()\n",
    "scaled_X = scaler.fit_transform(X)"
   ]
  },
  {
   "cell_type": "code",
   "execution_count": 32,
   "id": "9574d39f-6cfb-400f-990f-c95aad833867",
   "metadata": {},
   "outputs": [],
   "source": [
    "X_train, X_test, y_train, y_test = train_test_split(scaled_X, y, test_size=0.3, random_state=101)"
   ]
  },
  {
   "cell_type": "code",
   "execution_count": 33,
   "id": "5fafdd18-5bcf-4675-81b9-f2df0a1a2063",
   "metadata": {},
   "outputs": [],
   "source": [
    "from sklearn.preprocessing import StandardScaler\n",
    "scaler = StandardScaler()\n",
    "X_train = scaler.fit_transform(X_train)\n",
    "X_test = scaler.transform(X_test)"
   ]
  },
  {
   "cell_type": "code",
   "execution_count": 34,
   "id": "6337dacc-8196-4137-97e3-18a63f5d1226",
   "metadata": {},
   "outputs": [],
   "source": [
    "from sklearn.linear_model import ElasticNet\n",
    "model = ElasticNet()"
   ]
  },
  {
   "cell_type": "code",
   "execution_count": 35,
   "id": "e31de1a8-f656-4b98-897c-c05a5f010b88",
   "metadata": {},
   "outputs": [],
   "source": [
    "param_grid = {'alpha':[0.1,1,5,10,50,100],\n",
    "              'l1_ratio':[.1, .5, .7, .9, .95, .99, 1]}"
   ]
  },
  {
   "cell_type": "code",
   "execution_count": 36,
   "id": "e29fd99d-0b01-4274-b250-413da84af2d4",
   "metadata": {},
   "outputs": [
    {
     "name": "stdout",
     "output_type": "stream",
     "text": [
      "Fitting 5 folds for each of 42 candidates, totalling 210 fits\n",
      "[CV] END ............................alpha=0.1, l1_ratio=0.1; total time=   0.1s\n",
      "[CV] END ............................alpha=0.1, l1_ratio=0.1; total time=   0.3s\n",
      "[CV] END ............................alpha=0.1, l1_ratio=0.1; total time=   0.3s\n",
      "[CV] END ............................alpha=0.1, l1_ratio=0.1; total time=   0.3s\n",
      "[CV] END ............................alpha=0.1, l1_ratio=0.1; total time=   0.3s\n",
      "[CV] END ............................alpha=0.1, l1_ratio=0.5; total time=   0.3s\n",
      "[CV] END ............................alpha=0.1, l1_ratio=0.5; total time=   0.3s\n",
      "[CV] END ............................alpha=0.1, l1_ratio=0.5; total time=   0.3s\n",
      "[CV] END ............................alpha=0.1, l1_ratio=0.5; total time=   0.3s\n",
      "[CV] END ............................alpha=0.1, l1_ratio=0.5; total time=   0.3s\n",
      "[CV] END ............................alpha=0.1, l1_ratio=0.7; total time=   0.5s\n",
      "[CV] END ............................alpha=0.1, l1_ratio=0.7; total time=   0.3s\n",
      "[CV] END ............................alpha=0.1, l1_ratio=0.7; total time=   0.3s\n",
      "[CV] END ............................alpha=0.1, l1_ratio=0.7; total time=   0.4s\n",
      "[CV] END ............................alpha=0.1, l1_ratio=0.7; total time=   0.3s\n",
      "[CV] END ............................alpha=0.1, l1_ratio=0.9; total time=   0.4s\n",
      "[CV] END ............................alpha=0.1, l1_ratio=0.9; total time=   0.5s\n",
      "[CV] END ............................alpha=0.1, l1_ratio=0.9; total time=   0.4s\n",
      "[CV] END ............................alpha=0.1, l1_ratio=0.9; total time=   0.4s\n",
      "[CV] END ............................alpha=0.1, l1_ratio=0.9; total time=   0.5s\n",
      "[CV] END ...........................alpha=0.1, l1_ratio=0.95; total time=   0.6s\n",
      "[CV] END ...........................alpha=0.1, l1_ratio=0.95; total time=   0.6s\n",
      "[CV] END ...........................alpha=0.1, l1_ratio=0.95; total time=   0.6s\n",
      "[CV] END ...........................alpha=0.1, l1_ratio=0.95; total time=   0.6s\n",
      "[CV] END ...........................alpha=0.1, l1_ratio=0.95; total time=   0.6s\n",
      "[CV] END ...........................alpha=0.1, l1_ratio=0.99; total time=   1.0s\n",
      "[CV] END ...........................alpha=0.1, l1_ratio=0.99; total time=   1.0s\n",
      "[CV] END ...........................alpha=0.1, l1_ratio=0.99; total time=   1.0s\n",
      "[CV] END ...........................alpha=0.1, l1_ratio=0.99; total time=   1.0s\n",
      "[CV] END ...........................alpha=0.1, l1_ratio=0.99; total time=   1.0s\n",
      "[CV] END ..............................alpha=0.1, l1_ratio=1; total time=   1.0s\n",
      "[CV] END ..............................alpha=0.1, l1_ratio=1; total time=   1.0s\n",
      "[CV] END ..............................alpha=0.1, l1_ratio=1; total time=   1.0s\n",
      "[CV] END ..............................alpha=0.1, l1_ratio=1; total time=   1.1s\n",
      "[CV] END ..............................alpha=0.1, l1_ratio=1; total time=   1.0s\n",
      "[CV] END ..............................alpha=1, l1_ratio=0.1; total time=   0.2s\n",
      "[CV] END ..............................alpha=1, l1_ratio=0.1; total time=   0.2s\n",
      "[CV] END ..............................alpha=1, l1_ratio=0.1; total time=   0.1s\n",
      "[CV] END ..............................alpha=1, l1_ratio=0.1; total time=   0.2s\n",
      "[CV] END ..............................alpha=1, l1_ratio=0.1; total time=   0.2s\n",
      "[CV] END ..............................alpha=1, l1_ratio=0.5; total time=   0.2s\n",
      "[CV] END ..............................alpha=1, l1_ratio=0.5; total time=   0.2s\n",
      "[CV] END ..............................alpha=1, l1_ratio=0.5; total time=   0.2s\n",
      "[CV] END ..............................alpha=1, l1_ratio=0.5; total time=   0.2s\n",
      "[CV] END ..............................alpha=1, l1_ratio=0.5; total time=   0.2s\n",
      "[CV] END ..............................alpha=1, l1_ratio=0.7; total time=   0.2s\n",
      "[CV] END ..............................alpha=1, l1_ratio=0.7; total time=   0.2s\n",
      "[CV] END ..............................alpha=1, l1_ratio=0.7; total time=   0.2s\n",
      "[CV] END ..............................alpha=1, l1_ratio=0.7; total time=   0.2s\n",
      "[CV] END ..............................alpha=1, l1_ratio=0.7; total time=   0.2s\n",
      "[CV] END ..............................alpha=1, l1_ratio=0.9; total time=   0.3s\n",
      "[CV] END ..............................alpha=1, l1_ratio=0.9; total time=   0.3s\n",
      "[CV] END ..............................alpha=1, l1_ratio=0.9; total time=   0.3s\n",
      "[CV] END ..............................alpha=1, l1_ratio=0.9; total time=   0.3s\n",
      "[CV] END ..............................alpha=1, l1_ratio=0.9; total time=   0.2s\n",
      "[CV] END .............................alpha=1, l1_ratio=0.95; total time=   0.3s\n",
      "[CV] END .............................alpha=1, l1_ratio=0.95; total time=   0.3s\n",
      "[CV] END .............................alpha=1, l1_ratio=0.95; total time=   0.3s\n",
      "[CV] END .............................alpha=1, l1_ratio=0.95; total time=   0.3s\n",
      "[CV] END .............................alpha=1, l1_ratio=0.95; total time=   0.3s\n",
      "[CV] END .............................alpha=1, l1_ratio=0.99; total time=   0.4s\n",
      "[CV] END .............................alpha=1, l1_ratio=0.99; total time=   0.4s\n",
      "[CV] END .............................alpha=1, l1_ratio=0.99; total time=   0.4s\n",
      "[CV] END .............................alpha=1, l1_ratio=0.99; total time=   0.4s\n",
      "[CV] END .............................alpha=1, l1_ratio=0.99; total time=   0.4s\n",
      "[CV] END ................................alpha=1, l1_ratio=1; total time=   0.9s\n",
      "[CV] END ................................alpha=1, l1_ratio=1; total time=   1.0s\n",
      "[CV] END ................................alpha=1, l1_ratio=1; total time=   0.9s\n",
      "[CV] END ................................alpha=1, l1_ratio=1; total time=   0.9s\n",
      "[CV] END ................................alpha=1, l1_ratio=1; total time=   1.0s\n",
      "[CV] END ..............................alpha=5, l1_ratio=0.1; total time=   0.1s\n",
      "[CV] END ..............................alpha=5, l1_ratio=0.1; total time=   0.1s\n",
      "[CV] END ..............................alpha=5, l1_ratio=0.1; total time=   0.1s\n",
      "[CV] END ..............................alpha=5, l1_ratio=0.1; total time=   0.1s\n",
      "[CV] END ..............................alpha=5, l1_ratio=0.1; total time=   0.1s\n",
      "[CV] END ..............................alpha=5, l1_ratio=0.5; total time=   0.1s\n",
      "[CV] END ..............................alpha=5, l1_ratio=0.5; total time=   0.1s\n",
      "[CV] END ..............................alpha=5, l1_ratio=0.5; total time=   0.1s\n",
      "[CV] END ..............................alpha=5, l1_ratio=0.5; total time=   0.1s\n",
      "[CV] END ..............................alpha=5, l1_ratio=0.5; total time=   0.1s\n",
      "[CV] END ..............................alpha=5, l1_ratio=0.7; total time=   0.1s\n",
      "[CV] END ..............................alpha=5, l1_ratio=0.7; total time=   0.1s\n",
      "[CV] END ..............................alpha=5, l1_ratio=0.7; total time=   0.1s\n",
      "[CV] END ..............................alpha=5, l1_ratio=0.7; total time=   0.1s\n",
      "[CV] END ..............................alpha=5, l1_ratio=0.7; total time=   0.1s\n",
      "[CV] END ..............................alpha=5, l1_ratio=0.9; total time=   0.1s\n",
      "[CV] END ..............................alpha=5, l1_ratio=0.9; total time=   0.1s\n",
      "[CV] END ..............................alpha=5, l1_ratio=0.9; total time=   0.1s\n",
      "[CV] END ..............................alpha=5, l1_ratio=0.9; total time=   0.1s\n",
      "[CV] END ..............................alpha=5, l1_ratio=0.9; total time=   0.1s\n",
      "[CV] END .............................alpha=5, l1_ratio=0.95; total time=   0.1s\n",
      "[CV] END .............................alpha=5, l1_ratio=0.95; total time=   0.1s\n",
      "[CV] END .............................alpha=5, l1_ratio=0.95; total time=   0.1s\n",
      "[CV] END .............................alpha=5, l1_ratio=0.95; total time=   0.1s\n",
      "[CV] END .............................alpha=5, l1_ratio=0.95; total time=   0.1s\n",
      "[CV] END .............................alpha=5, l1_ratio=0.99; total time=   0.3s\n",
      "[CV] END .............................alpha=5, l1_ratio=0.99; total time=   0.3s\n",
      "[CV] END .............................alpha=5, l1_ratio=0.99; total time=   0.3s\n",
      "[CV] END .............................alpha=5, l1_ratio=0.99; total time=   0.2s\n",
      "[CV] END .............................alpha=5, l1_ratio=0.99; total time=   0.3s\n",
      "[CV] END ................................alpha=5, l1_ratio=1; total time=   0.9s\n",
      "[CV] END ................................alpha=5, l1_ratio=1; total time=   0.9s\n",
      "[CV] END ................................alpha=5, l1_ratio=1; total time=   0.9s\n",
      "[CV] END ................................alpha=5, l1_ratio=1; total time=   0.8s\n",
      "[CV] END ................................alpha=5, l1_ratio=1; total time=   0.9s\n",
      "[CV] END .............................alpha=10, l1_ratio=0.1; total time=   0.1s\n",
      "[CV] END .............................alpha=10, l1_ratio=0.1; total time=   0.1s\n",
      "[CV] END .............................alpha=10, l1_ratio=0.1; total time=   0.1s\n",
      "[CV] END .............................alpha=10, l1_ratio=0.1; total time=   0.1s\n",
      "[CV] END .............................alpha=10, l1_ratio=0.1; total time=   0.1s\n",
      "[CV] END .............................alpha=10, l1_ratio=0.5; total time=   0.0s\n",
      "[CV] END .............................alpha=10, l1_ratio=0.5; total time=   0.1s\n",
      "[CV] END .............................alpha=10, l1_ratio=0.5; total time=   0.1s\n",
      "[CV] END .............................alpha=10, l1_ratio=0.5; total time=   0.1s\n",
      "[CV] END .............................alpha=10, l1_ratio=0.5; total time=   0.1s\n",
      "[CV] END .............................alpha=10, l1_ratio=0.7; total time=   0.1s\n",
      "[CV] END .............................alpha=10, l1_ratio=0.7; total time=   0.0s\n",
      "[CV] END .............................alpha=10, l1_ratio=0.7; total time=   0.1s\n",
      "[CV] END .............................alpha=10, l1_ratio=0.7; total time=   0.1s\n",
      "[CV] END .............................alpha=10, l1_ratio=0.7; total time=   0.1s\n",
      "[CV] END .............................alpha=10, l1_ratio=0.9; total time=   0.1s\n",
      "[CV] END .............................alpha=10, l1_ratio=0.9; total time=   0.1s\n",
      "[CV] END .............................alpha=10, l1_ratio=0.9; total time=   0.1s\n",
      "[CV] END .............................alpha=10, l1_ratio=0.9; total time=   0.1s\n",
      "[CV] END .............................alpha=10, l1_ratio=0.9; total time=   0.1s\n",
      "[CV] END ............................alpha=10, l1_ratio=0.95; total time=   0.1s\n",
      "[CV] END ............................alpha=10, l1_ratio=0.95; total time=   0.1s\n",
      "[CV] END ............................alpha=10, l1_ratio=0.95; total time=   0.1s\n",
      "[CV] END ............................alpha=10, l1_ratio=0.95; total time=   0.1s\n",
      "[CV] END ............................alpha=10, l1_ratio=0.95; total time=   0.1s\n",
      "[CV] END ............................alpha=10, l1_ratio=0.99; total time=   0.1s\n",
      "[CV] END ............................alpha=10, l1_ratio=0.99; total time=   0.1s\n",
      "[CV] END ............................alpha=10, l1_ratio=0.99; total time=   0.1s\n",
      "[CV] END ............................alpha=10, l1_ratio=0.99; total time=   0.1s\n",
      "[CV] END ............................alpha=10, l1_ratio=0.99; total time=   0.1s\n",
      "[CV] END ...............................alpha=10, l1_ratio=1; total time=   0.6s\n",
      "[CV] END ...............................alpha=10, l1_ratio=1; total time=   0.4s\n",
      "[CV] END ...............................alpha=10, l1_ratio=1; total time=   0.4s\n",
      "[CV] END ...............................alpha=10, l1_ratio=1; total time=   0.4s\n",
      "[CV] END ...............................alpha=10, l1_ratio=1; total time=   0.6s\n",
      "[CV] END .............................alpha=50, l1_ratio=0.1; total time=   0.1s\n",
      "[CV] END .............................alpha=50, l1_ratio=0.1; total time=   0.1s\n",
      "[CV] END .............................alpha=50, l1_ratio=0.1; total time=   0.0s\n",
      "[CV] END .............................alpha=50, l1_ratio=0.1; total time=   0.1s\n",
      "[CV] END .............................alpha=50, l1_ratio=0.1; total time=   0.1s\n",
      "[CV] END .............................alpha=50, l1_ratio=0.5; total time=   0.1s\n",
      "[CV] END .............................alpha=50, l1_ratio=0.5; total time=   0.1s\n",
      "[CV] END .............................alpha=50, l1_ratio=0.5; total time=   0.1s\n",
      "[CV] END .............................alpha=50, l1_ratio=0.5; total time=   0.1s\n",
      "[CV] END .............................alpha=50, l1_ratio=0.5; total time=   0.1s\n",
      "[CV] END .............................alpha=50, l1_ratio=0.7; total time=   0.1s\n",
      "[CV] END .............................alpha=50, l1_ratio=0.7; total time=   0.1s\n",
      "[CV] END .............................alpha=50, l1_ratio=0.7; total time=   0.1s\n",
      "[CV] END .............................alpha=50, l1_ratio=0.7; total time=   0.1s\n",
      "[CV] END .............................alpha=50, l1_ratio=0.7; total time=   0.1s\n",
      "[CV] END .............................alpha=50, l1_ratio=0.9; total time=   0.1s\n",
      "[CV] END .............................alpha=50, l1_ratio=0.9; total time=   0.1s\n",
      "[CV] END .............................alpha=50, l1_ratio=0.9; total time=   0.1s\n",
      "[CV] END .............................alpha=50, l1_ratio=0.9; total time=   0.1s\n",
      "[CV] END .............................alpha=50, l1_ratio=0.9; total time=   0.1s\n",
      "[CV] END ............................alpha=50, l1_ratio=0.95; total time=   0.0s\n",
      "[CV] END ............................alpha=50, l1_ratio=0.95; total time=   0.1s\n",
      "[CV] END ............................alpha=50, l1_ratio=0.95; total time=   0.1s\n",
      "[CV] END ............................alpha=50, l1_ratio=0.95; total time=   0.1s\n",
      "[CV] END ............................alpha=50, l1_ratio=0.95; total time=   0.1s\n",
      "[CV] END ............................alpha=50, l1_ratio=0.99; total time=   0.0s\n",
      "[CV] END ............................alpha=50, l1_ratio=0.99; total time=   0.1s\n",
      "[CV] END ............................alpha=50, l1_ratio=0.99; total time=   0.1s\n",
      "[CV] END ............................alpha=50, l1_ratio=0.99; total time=   0.1s\n",
      "[CV] END ............................alpha=50, l1_ratio=0.99; total time=   0.1s\n",
      "[CV] END ...............................alpha=50, l1_ratio=1; total time=   0.3s\n",
      "[CV] END ...............................alpha=50, l1_ratio=1; total time=   0.3s\n",
      "[CV] END ...............................alpha=50, l1_ratio=1; total time=   0.3s\n",
      "[CV] END ...............................alpha=50, l1_ratio=1; total time=   0.3s\n",
      "[CV] END ...............................alpha=50, l1_ratio=1; total time=   0.3s\n",
      "[CV] END ............................alpha=100, l1_ratio=0.1; total time=   0.1s\n",
      "[CV] END ............................alpha=100, l1_ratio=0.1; total time=   0.1s\n",
      "[CV] END ............................alpha=100, l1_ratio=0.1; total time=   0.1s\n",
      "[CV] END ............................alpha=100, l1_ratio=0.1; total time=   0.0s\n",
      "[CV] END ............................alpha=100, l1_ratio=0.1; total time=   0.1s\n",
      "[CV] END ............................alpha=100, l1_ratio=0.5; total time=   0.1s\n",
      "[CV] END ............................alpha=100, l1_ratio=0.5; total time=   0.1s\n",
      "[CV] END ............................alpha=100, l1_ratio=0.5; total time=   0.1s\n",
      "[CV] END ............................alpha=100, l1_ratio=0.5; total time=   0.1s\n",
      "[CV] END ............................alpha=100, l1_ratio=0.5; total time=   0.1s\n",
      "[CV] END ............................alpha=100, l1_ratio=0.7; total time=   0.0s\n",
      "[CV] END ............................alpha=100, l1_ratio=0.7; total time=   0.1s\n",
      "[CV] END ............................alpha=100, l1_ratio=0.7; total time=   0.1s\n",
      "[CV] END ............................alpha=100, l1_ratio=0.7; total time=   0.1s\n",
      "[CV] END ............................alpha=100, l1_ratio=0.7; total time=   0.1s\n",
      "[CV] END ............................alpha=100, l1_ratio=0.9; total time=   0.1s\n",
      "[CV] END ............................alpha=100, l1_ratio=0.9; total time=   0.1s\n",
      "[CV] END ............................alpha=100, l1_ratio=0.9; total time=   0.1s\n",
      "[CV] END ............................alpha=100, l1_ratio=0.9; total time=   0.1s\n",
      "[CV] END ............................alpha=100, l1_ratio=0.9; total time=   0.1s\n",
      "[CV] END ...........................alpha=100, l1_ratio=0.95; total time=   0.1s\n",
      "[CV] END ...........................alpha=100, l1_ratio=0.95; total time=   0.1s\n",
      "[CV] END ...........................alpha=100, l1_ratio=0.95; total time=   0.1s\n",
      "[CV] END ...........................alpha=100, l1_ratio=0.95; total time=   0.1s\n",
      "[CV] END ...........................alpha=100, l1_ratio=0.95; total time=   0.1s\n",
      "[CV] END ...........................alpha=100, l1_ratio=0.99; total time=   0.1s\n",
      "[CV] END ...........................alpha=100, l1_ratio=0.99; total time=   0.1s\n",
      "[CV] END ...........................alpha=100, l1_ratio=0.99; total time=   0.1s\n",
      "[CV] END ...........................alpha=100, l1_ratio=0.99; total time=   0.1s\n",
      "[CV] END ...........................alpha=100, l1_ratio=0.99; total time=   0.1s\n",
      "[CV] END ..............................alpha=100, l1_ratio=1; total time=   0.1s\n",
      "[CV] END ..............................alpha=100, l1_ratio=1; total time=   0.3s\n",
      "[CV] END ..............................alpha=100, l1_ratio=1; total time=   0.2s\n",
      "[CV] END ..............................alpha=100, l1_ratio=1; total time=   0.2s\n",
      "[CV] END ..............................alpha=100, l1_ratio=1; total time=   0.3s\n"
     ]
    },
    {
     "data": {
      "text/html": [
       "<style>#sk-container-id-1 {color: black;}#sk-container-id-1 pre{padding: 0;}#sk-container-id-1 div.sk-toggleable {background-color: white;}#sk-container-id-1 label.sk-toggleable__label {cursor: pointer;display: block;width: 100%;margin-bottom: 0;padding: 0.3em;box-sizing: border-box;text-align: center;}#sk-container-id-1 label.sk-toggleable__label-arrow:before {content: \"▸\";float: left;margin-right: 0.25em;color: #696969;}#sk-container-id-1 label.sk-toggleable__label-arrow:hover:before {color: black;}#sk-container-id-1 div.sk-estimator:hover label.sk-toggleable__label-arrow:before {color: black;}#sk-container-id-1 div.sk-toggleable__content {max-height: 0;max-width: 0;overflow: hidden;text-align: left;background-color: #f0f8ff;}#sk-container-id-1 div.sk-toggleable__content pre {margin: 0.2em;color: black;border-radius: 0.25em;background-color: #f0f8ff;}#sk-container-id-1 input.sk-toggleable__control:checked~div.sk-toggleable__content {max-height: 200px;max-width: 100%;overflow: auto;}#sk-container-id-1 input.sk-toggleable__control:checked~label.sk-toggleable__label-arrow:before {content: \"▾\";}#sk-container-id-1 div.sk-estimator input.sk-toggleable__control:checked~label.sk-toggleable__label {background-color: #d4ebff;}#sk-container-id-1 div.sk-label input.sk-toggleable__control:checked~label.sk-toggleable__label {background-color: #d4ebff;}#sk-container-id-1 input.sk-hidden--visually {border: 0;clip: rect(1px 1px 1px 1px);clip: rect(1px, 1px, 1px, 1px);height: 1px;margin: -1px;overflow: hidden;padding: 0;position: absolute;width: 1px;}#sk-container-id-1 div.sk-estimator {font-family: monospace;background-color: #f0f8ff;border: 1px dotted black;border-radius: 0.25em;box-sizing: border-box;margin-bottom: 0.5em;}#sk-container-id-1 div.sk-estimator:hover {background-color: #d4ebff;}#sk-container-id-1 div.sk-parallel-item::after {content: \"\";width: 100%;border-bottom: 1px solid gray;flex-grow: 1;}#sk-container-id-1 div.sk-label:hover label.sk-toggleable__label {background-color: #d4ebff;}#sk-container-id-1 div.sk-serial::before {content: \"\";position: absolute;border-left: 1px solid gray;box-sizing: border-box;top: 0;bottom: 0;left: 50%;z-index: 0;}#sk-container-id-1 div.sk-serial {display: flex;flex-direction: column;align-items: center;background-color: white;padding-right: 0.2em;padding-left: 0.2em;position: relative;}#sk-container-id-1 div.sk-item {position: relative;z-index: 1;}#sk-container-id-1 div.sk-parallel {display: flex;align-items: stretch;justify-content: center;background-color: white;position: relative;}#sk-container-id-1 div.sk-item::before, #sk-container-id-1 div.sk-parallel-item::before {content: \"\";position: absolute;border-left: 1px solid gray;box-sizing: border-box;top: 0;bottom: 0;left: 50%;z-index: -1;}#sk-container-id-1 div.sk-parallel-item {display: flex;flex-direction: column;z-index: 1;position: relative;background-color: white;}#sk-container-id-1 div.sk-parallel-item:first-child::after {align-self: flex-end;width: 50%;}#sk-container-id-1 div.sk-parallel-item:last-child::after {align-self: flex-start;width: 50%;}#sk-container-id-1 div.sk-parallel-item:only-child::after {width: 0;}#sk-container-id-1 div.sk-dashed-wrapped {border: 1px dashed gray;margin: 0 0.4em 0.5em 0.4em;box-sizing: border-box;padding-bottom: 0.4em;background-color: white;}#sk-container-id-1 div.sk-label label {font-family: monospace;font-weight: bold;display: inline-block;line-height: 1.2em;}#sk-container-id-1 div.sk-label-container {text-align: center;}#sk-container-id-1 div.sk-container {/* jupyter's `normalize.less` sets `[hidden] { display: none; }` but bootstrap.min.css set `[hidden] { display: none !important; }` so we also need the `!important` here to be able to override the default hidden behavior on the sphinx rendered scikit-learn.org. See: https://github.com/scikit-learn/scikit-learn/issues/21755 */display: inline-block !important;position: relative;}#sk-container-id-1 div.sk-text-repr-fallback {display: none;}</style><div id=\"sk-container-id-1\" class=\"sk-top-container\"><div class=\"sk-text-repr-fallback\"><pre>GridSearchCV(cv=5, estimator=ElasticNet(),\n",
       "             param_grid={&#x27;alpha&#x27;: [0.1, 1, 5, 10, 50, 100],\n",
       "                         &#x27;l1_ratio&#x27;: [0.1, 0.5, 0.7, 0.9, 0.95, 0.99, 1]},\n",
       "             scoring=&#x27;neg_mean_squared_error&#x27;, verbose=2)</pre><b>In a Jupyter environment, please rerun this cell to show the HTML representation or trust the notebook. <br />On GitHub, the HTML representation is unable to render, please try loading this page with nbviewer.org.</b></div><div class=\"sk-container\" hidden><div class=\"sk-item sk-dashed-wrapped\"><div class=\"sk-label-container\"><div class=\"sk-label sk-toggleable\"><input class=\"sk-toggleable__control sk-hidden--visually\" id=\"sk-estimator-id-1\" type=\"checkbox\" ><label for=\"sk-estimator-id-1\" class=\"sk-toggleable__label sk-toggleable__label-arrow\">GridSearchCV</label><div class=\"sk-toggleable__content\"><pre>GridSearchCV(cv=5, estimator=ElasticNet(),\n",
       "             param_grid={&#x27;alpha&#x27;: [0.1, 1, 5, 10, 50, 100],\n",
       "                         &#x27;l1_ratio&#x27;: [0.1, 0.5, 0.7, 0.9, 0.95, 0.99, 1]},\n",
       "             scoring=&#x27;neg_mean_squared_error&#x27;, verbose=2)</pre></div></div></div><div class=\"sk-parallel\"><div class=\"sk-parallel-item\"><div class=\"sk-item\"><div class=\"sk-label-container\"><div class=\"sk-label sk-toggleable\"><input class=\"sk-toggleable__control sk-hidden--visually\" id=\"sk-estimator-id-2\" type=\"checkbox\" ><label for=\"sk-estimator-id-2\" class=\"sk-toggleable__label sk-toggleable__label-arrow\">estimator: ElasticNet</label><div class=\"sk-toggleable__content\"><pre>ElasticNet()</pre></div></div></div><div class=\"sk-serial\"><div class=\"sk-item\"><div class=\"sk-estimator sk-toggleable\"><input class=\"sk-toggleable__control sk-hidden--visually\" id=\"sk-estimator-id-3\" type=\"checkbox\" ><label for=\"sk-estimator-id-3\" class=\"sk-toggleable__label sk-toggleable__label-arrow\">ElasticNet</label><div class=\"sk-toggleable__content\"><pre>ElasticNet()</pre></div></div></div></div></div></div></div></div></div></div>"
      ],
      "text/plain": [
       "GridSearchCV(cv=5, estimator=ElasticNet(),\n",
       "             param_grid={'alpha': [0.1, 1, 5, 10, 50, 100],\n",
       "                         'l1_ratio': [0.1, 0.5, 0.7, 0.9, 0.95, 0.99, 1]},\n",
       "             scoring='neg_mean_squared_error', verbose=2)"
      ]
     },
     "execution_count": 36,
     "metadata": {},
     "output_type": "execute_result"
    }
   ],
   "source": [
    "from sklearn.model_selection import GridSearchCV\n",
    "\n",
    "grid_model = GridSearchCV(estimator=model,\n",
    "                          param_grid=param_grid,\n",
    "                          scoring='neg_mean_squared_error',\n",
    "                          cv=5,\n",
    "                          verbose=2)\n",
    "grid_model.fit(X_train,y_train)"
   ]
  },
  {
   "cell_type": "code",
   "execution_count": 37,
   "id": "37e536f1-5d27-45fd-b4f7-51125ab8daac",
   "metadata": {},
   "outputs": [],
   "source": [
    "y_pred = grid_model.predict(X_test)"
   ]
  },
  {
   "cell_type": "code",
   "execution_count": 38,
   "id": "92a2d2ec-c77d-4e59-be6a-dd9df8b735a1",
   "metadata": {},
   "outputs": [
    {
     "data": {
      "text/plain": [
       "18056.146860849345"
      ]
     },
     "execution_count": 38,
     "metadata": {},
     "output_type": "execute_result"
    }
   ],
   "source": [
    "np.mean(df['Цена ($)'])"
   ]
  },
  {
   "cell_type": "code",
   "execution_count": 39,
   "id": "2fe72557-f112-43fe-bf77-d1d1eaa8c2e3",
   "metadata": {},
   "outputs": [
    {
     "name": "stdout",
     "output_type": "stream",
     "text": [
      "MAE: 2153.6725376705617\n",
      "RMSE: 3465.008254800707\n",
      "Absolute Error Percentage: 11.9%\n",
      "Quadratic Error Percentage: 19.2%\n"
     ]
    }
   ],
   "source": [
    "show_stat(y_test, y_pred)"
   ]
  },
  {
   "cell_type": "code",
   "execution_count": 40,
   "id": "e45939da-961f-425d-ae8a-2607aa45f051",
   "metadata": {},
   "outputs": [],
   "source": [
    "final_model = ElasticNet(**grid_model.best_estimator_.get_params())"
   ]
  },
  {
   "cell_type": "code",
   "execution_count": 41,
   "id": "91c1e550-1daa-48f3-ad82-7e7247e944ce",
   "metadata": {},
   "outputs": [
    {
     "data": {
      "text/html": [
       "<style>#sk-container-id-2 {color: black;}#sk-container-id-2 pre{padding: 0;}#sk-container-id-2 div.sk-toggleable {background-color: white;}#sk-container-id-2 label.sk-toggleable__label {cursor: pointer;display: block;width: 100%;margin-bottom: 0;padding: 0.3em;box-sizing: border-box;text-align: center;}#sk-container-id-2 label.sk-toggleable__label-arrow:before {content: \"▸\";float: left;margin-right: 0.25em;color: #696969;}#sk-container-id-2 label.sk-toggleable__label-arrow:hover:before {color: black;}#sk-container-id-2 div.sk-estimator:hover label.sk-toggleable__label-arrow:before {color: black;}#sk-container-id-2 div.sk-toggleable__content {max-height: 0;max-width: 0;overflow: hidden;text-align: left;background-color: #f0f8ff;}#sk-container-id-2 div.sk-toggleable__content pre {margin: 0.2em;color: black;border-radius: 0.25em;background-color: #f0f8ff;}#sk-container-id-2 input.sk-toggleable__control:checked~div.sk-toggleable__content {max-height: 200px;max-width: 100%;overflow: auto;}#sk-container-id-2 input.sk-toggleable__control:checked~label.sk-toggleable__label-arrow:before {content: \"▾\";}#sk-container-id-2 div.sk-estimator input.sk-toggleable__control:checked~label.sk-toggleable__label {background-color: #d4ebff;}#sk-container-id-2 div.sk-label input.sk-toggleable__control:checked~label.sk-toggleable__label {background-color: #d4ebff;}#sk-container-id-2 input.sk-hidden--visually {border: 0;clip: rect(1px 1px 1px 1px);clip: rect(1px, 1px, 1px, 1px);height: 1px;margin: -1px;overflow: hidden;padding: 0;position: absolute;width: 1px;}#sk-container-id-2 div.sk-estimator {font-family: monospace;background-color: #f0f8ff;border: 1px dotted black;border-radius: 0.25em;box-sizing: border-box;margin-bottom: 0.5em;}#sk-container-id-2 div.sk-estimator:hover {background-color: #d4ebff;}#sk-container-id-2 div.sk-parallel-item::after {content: \"\";width: 100%;border-bottom: 1px solid gray;flex-grow: 1;}#sk-container-id-2 div.sk-label:hover label.sk-toggleable__label {background-color: #d4ebff;}#sk-container-id-2 div.sk-serial::before {content: \"\";position: absolute;border-left: 1px solid gray;box-sizing: border-box;top: 0;bottom: 0;left: 50%;z-index: 0;}#sk-container-id-2 div.sk-serial {display: flex;flex-direction: column;align-items: center;background-color: white;padding-right: 0.2em;padding-left: 0.2em;position: relative;}#sk-container-id-2 div.sk-item {position: relative;z-index: 1;}#sk-container-id-2 div.sk-parallel {display: flex;align-items: stretch;justify-content: center;background-color: white;position: relative;}#sk-container-id-2 div.sk-item::before, #sk-container-id-2 div.sk-parallel-item::before {content: \"\";position: absolute;border-left: 1px solid gray;box-sizing: border-box;top: 0;bottom: 0;left: 50%;z-index: -1;}#sk-container-id-2 div.sk-parallel-item {display: flex;flex-direction: column;z-index: 1;position: relative;background-color: white;}#sk-container-id-2 div.sk-parallel-item:first-child::after {align-self: flex-end;width: 50%;}#sk-container-id-2 div.sk-parallel-item:last-child::after {align-self: flex-start;width: 50%;}#sk-container-id-2 div.sk-parallel-item:only-child::after {width: 0;}#sk-container-id-2 div.sk-dashed-wrapped {border: 1px dashed gray;margin: 0 0.4em 0.5em 0.4em;box-sizing: border-box;padding-bottom: 0.4em;background-color: white;}#sk-container-id-2 div.sk-label label {font-family: monospace;font-weight: bold;display: inline-block;line-height: 1.2em;}#sk-container-id-2 div.sk-label-container {text-align: center;}#sk-container-id-2 div.sk-container {/* jupyter's `normalize.less` sets `[hidden] { display: none; }` but bootstrap.min.css set `[hidden] { display: none !important; }` so we also need the `!important` here to be able to override the default hidden behavior on the sphinx rendered scikit-learn.org. See: https://github.com/scikit-learn/scikit-learn/issues/21755 */display: inline-block !important;position: relative;}#sk-container-id-2 div.sk-text-repr-fallback {display: none;}</style><div id=\"sk-container-id-2\" class=\"sk-top-container\"><div class=\"sk-text-repr-fallback\"><pre>ElasticNet(alpha=10, l1_ratio=1)</pre><b>In a Jupyter environment, please rerun this cell to show the HTML representation or trust the notebook. <br />On GitHub, the HTML representation is unable to render, please try loading this page with nbviewer.org.</b></div><div class=\"sk-container\" hidden><div class=\"sk-item\"><div class=\"sk-estimator sk-toggleable\"><input class=\"sk-toggleable__control sk-hidden--visually\" id=\"sk-estimator-id-4\" type=\"checkbox\" checked><label for=\"sk-estimator-id-4\" class=\"sk-toggleable__label sk-toggleable__label-arrow\">ElasticNet</label><div class=\"sk-toggleable__content\"><pre>ElasticNet(alpha=10, l1_ratio=1)</pre></div></div></div></div></div>"
      ],
      "text/plain": [
       "ElasticNet(alpha=10, l1_ratio=1)"
      ]
     },
     "execution_count": 41,
     "metadata": {},
     "output_type": "execute_result"
    }
   ],
   "source": [
    "final_model.fit(scaled_X, y)"
   ]
  },
  {
   "cell_type": "code",
   "execution_count": 42,
   "id": "b8ec1bd6-11c3-4d8f-9af4-43e6de93cf83",
   "metadata": {},
   "outputs": [
    {
     "name": "stdout",
     "output_type": "stream",
     "text": [
      "MAE: 2105.7596033645614\n",
      "RMSE: 3440.9256746236215\n",
      "Absolute Error Percentage: 11.7%\n",
      "Quadratic Error Percentage: 19.1%\n"
     ]
    }
   ],
   "source": [
    "y_pred = final_model.predict(X_test)\n",
    "show_stat(y_test, y_pred)"
   ]
  },
  {
   "cell_type": "code",
   "execution_count": 43,
   "id": "904b4c23-b457-4185-b883-3e4906431394",
   "metadata": {},
   "outputs": [
    {
     "data": {
      "text/plain": [
       "['models/linear.joblib']"
      ]
     },
     "execution_count": 43,
     "metadata": {},
     "output_type": "execute_result"
    }
   ],
   "source": [
    "joblib.dump(final_model, 'models/linear.joblib') "
   ]
  },
  {
   "cell_type": "markdown",
   "id": "7f7027f5-ba3d-45d3-81b0-10f02f07b581",
   "metadata": {},
   "source": [
    "### Polynomial Regression"
   ]
  },
  {
   "cell_type": "code",
   "execution_count": 44,
   "id": "86086816-5a47-4658-9ed0-d806b842f361",
   "metadata": {},
   "outputs": [],
   "source": [
    "X = df.drop('Цена ($)', axis=1)\n",
    "y = df['Цена ($)']"
   ]
  },
  {
   "cell_type": "code",
   "execution_count": 45,
   "id": "1cdd2b01-8b0c-45e9-b9db-26198d62632f",
   "metadata": {},
   "outputs": [],
   "source": [
    "from sklearn.preprocessing import PolynomialFeatures"
   ]
  },
  {
   "cell_type": "code",
   "execution_count": 46,
   "id": "2ee9f640-752f-4c77-87d1-08699f0bdc73",
   "metadata": {},
   "outputs": [],
   "source": [
    "polynomial_converter = PolynomialFeatures(degree=2, include_bias=False)"
   ]
  },
  {
   "cell_type": "code",
   "execution_count": 47,
   "id": "2920739c-2c5a-4d91-a899-13299e50ab30",
   "metadata": {},
   "outputs": [],
   "source": [
    "poly_features = polynomial_converter.fit_transform(X)"
   ]
  },
  {
   "cell_type": "code",
   "execution_count": 48,
   "id": "367e86bf-03d7-40fa-bc04-8239fc952ff6",
   "metadata": {},
   "outputs": [
    {
     "data": {
      "text/plain": [
       "(16342, 1539)"
      ]
     },
     "execution_count": 48,
     "metadata": {},
     "output_type": "execute_result"
    }
   ],
   "source": [
    "poly_features.shape"
   ]
  },
  {
   "cell_type": "code",
   "execution_count": 49,
   "id": "a5084b2b-ceaf-4e03-9fc9-232ade57adaf",
   "metadata": {},
   "outputs": [],
   "source": [
    "X_train, X_test, y_train, y_test = train_test_split(poly_features, y, test_size=0.3, random_state=101)"
   ]
  },
  {
   "cell_type": "code",
   "execution_count": 50,
   "id": "ec934ef9-1be2-4d98-a6cc-91e81850042e",
   "metadata": {},
   "outputs": [],
   "source": [
    "model = ElasticNet(alpha=10, l1_ratio=1)"
   ]
  },
  {
   "cell_type": "code",
   "execution_count": 51,
   "id": "34affd47-1116-40dd-9b09-52c28f5b8e20",
   "metadata": {},
   "outputs": [
    {
     "data": {
      "text/html": [
       "<style>#sk-container-id-3 {color: black;}#sk-container-id-3 pre{padding: 0;}#sk-container-id-3 div.sk-toggleable {background-color: white;}#sk-container-id-3 label.sk-toggleable__label {cursor: pointer;display: block;width: 100%;margin-bottom: 0;padding: 0.3em;box-sizing: border-box;text-align: center;}#sk-container-id-3 label.sk-toggleable__label-arrow:before {content: \"▸\";float: left;margin-right: 0.25em;color: #696969;}#sk-container-id-3 label.sk-toggleable__label-arrow:hover:before {color: black;}#sk-container-id-3 div.sk-estimator:hover label.sk-toggleable__label-arrow:before {color: black;}#sk-container-id-3 div.sk-toggleable__content {max-height: 0;max-width: 0;overflow: hidden;text-align: left;background-color: #f0f8ff;}#sk-container-id-3 div.sk-toggleable__content pre {margin: 0.2em;color: black;border-radius: 0.25em;background-color: #f0f8ff;}#sk-container-id-3 input.sk-toggleable__control:checked~div.sk-toggleable__content {max-height: 200px;max-width: 100%;overflow: auto;}#sk-container-id-3 input.sk-toggleable__control:checked~label.sk-toggleable__label-arrow:before {content: \"▾\";}#sk-container-id-3 div.sk-estimator input.sk-toggleable__control:checked~label.sk-toggleable__label {background-color: #d4ebff;}#sk-container-id-3 div.sk-label input.sk-toggleable__control:checked~label.sk-toggleable__label {background-color: #d4ebff;}#sk-container-id-3 input.sk-hidden--visually {border: 0;clip: rect(1px 1px 1px 1px);clip: rect(1px, 1px, 1px, 1px);height: 1px;margin: -1px;overflow: hidden;padding: 0;position: absolute;width: 1px;}#sk-container-id-3 div.sk-estimator {font-family: monospace;background-color: #f0f8ff;border: 1px dotted black;border-radius: 0.25em;box-sizing: border-box;margin-bottom: 0.5em;}#sk-container-id-3 div.sk-estimator:hover {background-color: #d4ebff;}#sk-container-id-3 div.sk-parallel-item::after {content: \"\";width: 100%;border-bottom: 1px solid gray;flex-grow: 1;}#sk-container-id-3 div.sk-label:hover label.sk-toggleable__label {background-color: #d4ebff;}#sk-container-id-3 div.sk-serial::before {content: \"\";position: absolute;border-left: 1px solid gray;box-sizing: border-box;top: 0;bottom: 0;left: 50%;z-index: 0;}#sk-container-id-3 div.sk-serial {display: flex;flex-direction: column;align-items: center;background-color: white;padding-right: 0.2em;padding-left: 0.2em;position: relative;}#sk-container-id-3 div.sk-item {position: relative;z-index: 1;}#sk-container-id-3 div.sk-parallel {display: flex;align-items: stretch;justify-content: center;background-color: white;position: relative;}#sk-container-id-3 div.sk-item::before, #sk-container-id-3 div.sk-parallel-item::before {content: \"\";position: absolute;border-left: 1px solid gray;box-sizing: border-box;top: 0;bottom: 0;left: 50%;z-index: -1;}#sk-container-id-3 div.sk-parallel-item {display: flex;flex-direction: column;z-index: 1;position: relative;background-color: white;}#sk-container-id-3 div.sk-parallel-item:first-child::after {align-self: flex-end;width: 50%;}#sk-container-id-3 div.sk-parallel-item:last-child::after {align-self: flex-start;width: 50%;}#sk-container-id-3 div.sk-parallel-item:only-child::after {width: 0;}#sk-container-id-3 div.sk-dashed-wrapped {border: 1px dashed gray;margin: 0 0.4em 0.5em 0.4em;box-sizing: border-box;padding-bottom: 0.4em;background-color: white;}#sk-container-id-3 div.sk-label label {font-family: monospace;font-weight: bold;display: inline-block;line-height: 1.2em;}#sk-container-id-3 div.sk-label-container {text-align: center;}#sk-container-id-3 div.sk-container {/* jupyter's `normalize.less` sets `[hidden] { display: none; }` but bootstrap.min.css set `[hidden] { display: none !important; }` so we also need the `!important` here to be able to override the default hidden behavior on the sphinx rendered scikit-learn.org. See: https://github.com/scikit-learn/scikit-learn/issues/21755 */display: inline-block !important;position: relative;}#sk-container-id-3 div.sk-text-repr-fallback {display: none;}</style><div id=\"sk-container-id-3\" class=\"sk-top-container\"><div class=\"sk-text-repr-fallback\"><pre>ElasticNet(alpha=10, l1_ratio=1)</pre><b>In a Jupyter environment, please rerun this cell to show the HTML representation or trust the notebook. <br />On GitHub, the HTML representation is unable to render, please try loading this page with nbviewer.org.</b></div><div class=\"sk-container\" hidden><div class=\"sk-item\"><div class=\"sk-estimator sk-toggleable\"><input class=\"sk-toggleable__control sk-hidden--visually\" id=\"sk-estimator-id-5\" type=\"checkbox\" checked><label for=\"sk-estimator-id-5\" class=\"sk-toggleable__label sk-toggleable__label-arrow\">ElasticNet</label><div class=\"sk-toggleable__content\"><pre>ElasticNet(alpha=10, l1_ratio=1)</pre></div></div></div></div></div>"
      ],
      "text/plain": [
       "ElasticNet(alpha=10, l1_ratio=1)"
      ]
     },
     "execution_count": 51,
     "metadata": {},
     "output_type": "execute_result"
    }
   ],
   "source": [
    "model.fit(X_train, y_train)"
   ]
  },
  {
   "cell_type": "code",
   "execution_count": 52,
   "id": "f28ced78-b4c9-461a-88a5-7527983216d1",
   "metadata": {},
   "outputs": [],
   "source": [
    "y_pred = model.predict(X_test)"
   ]
  },
  {
   "cell_type": "code",
   "execution_count": 53,
   "id": "94562948-a0f8-4f9c-b7de-bdf3ac29efa5",
   "metadata": {},
   "outputs": [
    {
     "name": "stdout",
     "output_type": "stream",
     "text": [
      "MAE: 1706.225026483827\n",
      "RMSE: 2770.3350869094975\n",
      "Absolute Error Percentage: 9.4%\n",
      "Quadratic Error Percentage: 15.3%\n"
     ]
    }
   ],
   "source": [
    "show_stat(y_test, y_pred)"
   ]
  },
  {
   "cell_type": "code",
   "execution_count": 54,
   "id": "c13df380-1eaa-4d9a-a0c2-dffece8991ef",
   "metadata": {},
   "outputs": [],
   "source": [
    "final_model = ElasticNet(alpha=10, l1_ratio=1)"
   ]
  },
  {
   "cell_type": "code",
   "execution_count": 55,
   "id": "5c568046-4c4e-471f-8274-e55ed593cd48",
   "metadata": {},
   "outputs": [
    {
     "data": {
      "text/html": [
       "<style>#sk-container-id-4 {color: black;}#sk-container-id-4 pre{padding: 0;}#sk-container-id-4 div.sk-toggleable {background-color: white;}#sk-container-id-4 label.sk-toggleable__label {cursor: pointer;display: block;width: 100%;margin-bottom: 0;padding: 0.3em;box-sizing: border-box;text-align: center;}#sk-container-id-4 label.sk-toggleable__label-arrow:before {content: \"▸\";float: left;margin-right: 0.25em;color: #696969;}#sk-container-id-4 label.sk-toggleable__label-arrow:hover:before {color: black;}#sk-container-id-4 div.sk-estimator:hover label.sk-toggleable__label-arrow:before {color: black;}#sk-container-id-4 div.sk-toggleable__content {max-height: 0;max-width: 0;overflow: hidden;text-align: left;background-color: #f0f8ff;}#sk-container-id-4 div.sk-toggleable__content pre {margin: 0.2em;color: black;border-radius: 0.25em;background-color: #f0f8ff;}#sk-container-id-4 input.sk-toggleable__control:checked~div.sk-toggleable__content {max-height: 200px;max-width: 100%;overflow: auto;}#sk-container-id-4 input.sk-toggleable__control:checked~label.sk-toggleable__label-arrow:before {content: \"▾\";}#sk-container-id-4 div.sk-estimator input.sk-toggleable__control:checked~label.sk-toggleable__label {background-color: #d4ebff;}#sk-container-id-4 div.sk-label input.sk-toggleable__control:checked~label.sk-toggleable__label {background-color: #d4ebff;}#sk-container-id-4 input.sk-hidden--visually {border: 0;clip: rect(1px 1px 1px 1px);clip: rect(1px, 1px, 1px, 1px);height: 1px;margin: -1px;overflow: hidden;padding: 0;position: absolute;width: 1px;}#sk-container-id-4 div.sk-estimator {font-family: monospace;background-color: #f0f8ff;border: 1px dotted black;border-radius: 0.25em;box-sizing: border-box;margin-bottom: 0.5em;}#sk-container-id-4 div.sk-estimator:hover {background-color: #d4ebff;}#sk-container-id-4 div.sk-parallel-item::after {content: \"\";width: 100%;border-bottom: 1px solid gray;flex-grow: 1;}#sk-container-id-4 div.sk-label:hover label.sk-toggleable__label {background-color: #d4ebff;}#sk-container-id-4 div.sk-serial::before {content: \"\";position: absolute;border-left: 1px solid gray;box-sizing: border-box;top: 0;bottom: 0;left: 50%;z-index: 0;}#sk-container-id-4 div.sk-serial {display: flex;flex-direction: column;align-items: center;background-color: white;padding-right: 0.2em;padding-left: 0.2em;position: relative;}#sk-container-id-4 div.sk-item {position: relative;z-index: 1;}#sk-container-id-4 div.sk-parallel {display: flex;align-items: stretch;justify-content: center;background-color: white;position: relative;}#sk-container-id-4 div.sk-item::before, #sk-container-id-4 div.sk-parallel-item::before {content: \"\";position: absolute;border-left: 1px solid gray;box-sizing: border-box;top: 0;bottom: 0;left: 50%;z-index: -1;}#sk-container-id-4 div.sk-parallel-item {display: flex;flex-direction: column;z-index: 1;position: relative;background-color: white;}#sk-container-id-4 div.sk-parallel-item:first-child::after {align-self: flex-end;width: 50%;}#sk-container-id-4 div.sk-parallel-item:last-child::after {align-self: flex-start;width: 50%;}#sk-container-id-4 div.sk-parallel-item:only-child::after {width: 0;}#sk-container-id-4 div.sk-dashed-wrapped {border: 1px dashed gray;margin: 0 0.4em 0.5em 0.4em;box-sizing: border-box;padding-bottom: 0.4em;background-color: white;}#sk-container-id-4 div.sk-label label {font-family: monospace;font-weight: bold;display: inline-block;line-height: 1.2em;}#sk-container-id-4 div.sk-label-container {text-align: center;}#sk-container-id-4 div.sk-container {/* jupyter's `normalize.less` sets `[hidden] { display: none; }` but bootstrap.min.css set `[hidden] { display: none !important; }` so we also need the `!important` here to be able to override the default hidden behavior on the sphinx rendered scikit-learn.org. See: https://github.com/scikit-learn/scikit-learn/issues/21755 */display: inline-block !important;position: relative;}#sk-container-id-4 div.sk-text-repr-fallback {display: none;}</style><div id=\"sk-container-id-4\" class=\"sk-top-container\"><div class=\"sk-text-repr-fallback\"><pre>ElasticNet(alpha=10, l1_ratio=1)</pre><b>In a Jupyter environment, please rerun this cell to show the HTML representation or trust the notebook. <br />On GitHub, the HTML representation is unable to render, please try loading this page with nbviewer.org.</b></div><div class=\"sk-container\" hidden><div class=\"sk-item\"><div class=\"sk-estimator sk-toggleable\"><input class=\"sk-toggleable__control sk-hidden--visually\" id=\"sk-estimator-id-6\" type=\"checkbox\" checked><label for=\"sk-estimator-id-6\" class=\"sk-toggleable__label sk-toggleable__label-arrow\">ElasticNet</label><div class=\"sk-toggleable__content\"><pre>ElasticNet(alpha=10, l1_ratio=1)</pre></div></div></div></div></div>"
      ],
      "text/plain": [
       "ElasticNet(alpha=10, l1_ratio=1)"
      ]
     },
     "execution_count": 55,
     "metadata": {},
     "output_type": "execute_result"
    }
   ],
   "source": [
    "final_model.fit(poly_features, y)"
   ]
  },
  {
   "cell_type": "code",
   "execution_count": 56,
   "id": "8a81b3ca-2393-4ce2-860c-bdfc3c1ca7e3",
   "metadata": {},
   "outputs": [
    {
     "name": "stdout",
     "output_type": "stream",
     "text": [
      "MAE: 1675.5575286762612\n",
      "RMSE: 2736.9134085178603\n",
      "Absolute Error Percentage: 9.3%\n",
      "Quadratic Error Percentage: 15.2%\n"
     ]
    }
   ],
   "source": [
    "y_pred = final_model.predict(X_test)\n",
    "show_stat(y_test, y_pred)"
   ]
  },
  {
   "cell_type": "code",
   "execution_count": 57,
   "id": "87d60585-79d0-425d-9f04-6cd593b23bea",
   "metadata": {},
   "outputs": [
    {
     "data": {
      "text/plain": [
       "['models/polynomial.joblib']"
      ]
     },
     "execution_count": 57,
     "metadata": {},
     "output_type": "execute_result"
    }
   ],
   "source": [
    "joblib.dump(final_model, 'models/polynomial.joblib')"
   ]
  },
  {
   "cell_type": "markdown",
   "id": "1b9e614d-bef2-498b-80df-ba8ced1eae32",
   "metadata": {},
   "source": [
    "### K-Nearest-Neighbors"
   ]
  },
  {
   "cell_type": "code",
   "execution_count": 58,
   "id": "bde03afe-f77d-4e08-98aa-469403b9cff9",
   "metadata": {},
   "outputs": [],
   "source": [
    "X = df.drop('Цена ($)', axis=1)\n",
    "y = df['Цена ($)']"
   ]
  },
  {
   "cell_type": "code",
   "execution_count": 59,
   "id": "4d70be27-eab5-4b56-8976-904e42725c80",
   "metadata": {},
   "outputs": [],
   "source": [
    "from sklearn.preprocessing import StandardScaler\n",
    "scaler = StandardScaler()\n",
    "scaled_X = scaler.fit_transform(X)"
   ]
  },
  {
   "cell_type": "code",
   "execution_count": 60,
   "id": "775cde76-e23d-4a8d-8a54-6d8b532ff9d7",
   "metadata": {},
   "outputs": [],
   "source": [
    "X_train, X_test, y_train, y_test = train_test_split(scaled_X, y, test_size=0.3, random_state=101)"
   ]
  },
  {
   "cell_type": "code",
   "execution_count": 61,
   "id": "6790b6cc-d30f-4326-b19f-4c65bc9674fc",
   "metadata": {},
   "outputs": [],
   "source": [
    "scaler = StandardScaler()\n",
    "X_train = scaler.fit_transform(X_train)\n",
    "X_test = scaler.transform(X_test)"
   ]
  },
  {
   "cell_type": "code",
   "execution_count": 62,
   "id": "0f8f90a1-0076-4c37-b46a-1ebcb71286b2",
   "metadata": {},
   "outputs": [],
   "source": [
    "from sklearn.neighbors import KNeighborsRegressor\n",
    "model = KNeighborsRegressor()"
   ]
  },
  {
   "cell_type": "code",
   "execution_count": 63,
   "id": "e086590a-2326-4951-9636-e2dca28c24b3",
   "metadata": {},
   "outputs": [],
   "source": [
    "param_grid = {'n_neighbors': list(range(1, 30 + 1))}"
   ]
  },
  {
   "cell_type": "code",
   "execution_count": 64,
   "id": "432fbbac-1c56-4bae-95f1-9d8a8900bfb1",
   "metadata": {},
   "outputs": [
    {
     "name": "stdout",
     "output_type": "stream",
     "text": [
      "Fitting 5 folds for each of 30 candidates, totalling 150 fits\n",
      "[CV] END ......................................n_neighbors=1; total time=   0.3s\n",
      "[CV] END ......................................n_neighbors=1; total time=   0.0s\n",
      "[CV] END ......................................n_neighbors=1; total time=   0.0s\n",
      "[CV] END ......................................n_neighbors=1; total time=   0.0s\n",
      "[CV] END ......................................n_neighbors=1; total time=   0.0s\n",
      "[CV] END ......................................n_neighbors=2; total time=   0.0s\n",
      "[CV] END ......................................n_neighbors=2; total time=   0.0s\n",
      "[CV] END ......................................n_neighbors=2; total time=   0.0s\n",
      "[CV] END ......................................n_neighbors=2; total time=   0.0s\n",
      "[CV] END ......................................n_neighbors=2; total time=   0.0s\n",
      "[CV] END ......................................n_neighbors=3; total time=   0.0s\n",
      "[CV] END ......................................n_neighbors=3; total time=   0.0s\n",
      "[CV] END ......................................n_neighbors=3; total time=   0.0s\n",
      "[CV] END ......................................n_neighbors=3; total time=   0.0s\n",
      "[CV] END ......................................n_neighbors=3; total time=   0.0s\n",
      "[CV] END ......................................n_neighbors=4; total time=   0.0s\n",
      "[CV] END ......................................n_neighbors=4; total time=   0.0s\n",
      "[CV] END ......................................n_neighbors=4; total time=   0.0s\n",
      "[CV] END ......................................n_neighbors=4; total time=   0.0s\n",
      "[CV] END ......................................n_neighbors=4; total time=   0.0s\n",
      "[CV] END ......................................n_neighbors=5; total time=   0.0s\n",
      "[CV] END ......................................n_neighbors=5; total time=   0.0s\n",
      "[CV] END ......................................n_neighbors=5; total time=   0.0s\n",
      "[CV] END ......................................n_neighbors=5; total time=   0.0s\n",
      "[CV] END ......................................n_neighbors=5; total time=   0.0s\n",
      "[CV] END ......................................n_neighbors=6; total time=   0.0s\n",
      "[CV] END ......................................n_neighbors=6; total time=   0.0s\n",
      "[CV] END ......................................n_neighbors=6; total time=   0.0s\n",
      "[CV] END ......................................n_neighbors=6; total time=   0.0s\n",
      "[CV] END ......................................n_neighbors=6; total time=   0.0s\n",
      "[CV] END ......................................n_neighbors=7; total time=   0.0s\n",
      "[CV] END ......................................n_neighbors=7; total time=   0.0s\n",
      "[CV] END ......................................n_neighbors=7; total time=   0.0s\n",
      "[CV] END ......................................n_neighbors=7; total time=   0.0s\n",
      "[CV] END ......................................n_neighbors=7; total time=   0.0s\n",
      "[CV] END ......................................n_neighbors=8; total time=   0.0s\n",
      "[CV] END ......................................n_neighbors=8; total time=   0.0s\n",
      "[CV] END ......................................n_neighbors=8; total time=   0.0s\n",
      "[CV] END ......................................n_neighbors=8; total time=   0.0s\n",
      "[CV] END ......................................n_neighbors=8; total time=   0.0s\n",
      "[CV] END ......................................n_neighbors=9; total time=   0.0s\n",
      "[CV] END ......................................n_neighbors=9; total time=   0.0s\n",
      "[CV] END ......................................n_neighbors=9; total time=   0.0s\n",
      "[CV] END ......................................n_neighbors=9; total time=   0.0s\n",
      "[CV] END ......................................n_neighbors=9; total time=   0.0s\n",
      "[CV] END .....................................n_neighbors=10; total time=   0.0s\n",
      "[CV] END .....................................n_neighbors=10; total time=   0.0s\n",
      "[CV] END .....................................n_neighbors=10; total time=   0.0s\n",
      "[CV] END .....................................n_neighbors=10; total time=   0.0s\n",
      "[CV] END .....................................n_neighbors=10; total time=   0.0s\n",
      "[CV] END .....................................n_neighbors=11; total time=   0.0s\n",
      "[CV] END .....................................n_neighbors=11; total time=   0.0s\n",
      "[CV] END .....................................n_neighbors=11; total time=   0.0s\n",
      "[CV] END .....................................n_neighbors=11; total time=   0.0s\n",
      "[CV] END .....................................n_neighbors=11; total time=   0.0s\n",
      "[CV] END .....................................n_neighbors=12; total time=   0.0s\n",
      "[CV] END .....................................n_neighbors=12; total time=   0.0s\n",
      "[CV] END .....................................n_neighbors=12; total time=   0.0s\n",
      "[CV] END .....................................n_neighbors=12; total time=   0.0s\n",
      "[CV] END .....................................n_neighbors=12; total time=   0.0s\n",
      "[CV] END .....................................n_neighbors=13; total time=   0.0s\n",
      "[CV] END .....................................n_neighbors=13; total time=   0.0s\n",
      "[CV] END .....................................n_neighbors=13; total time=   0.0s\n",
      "[CV] END .....................................n_neighbors=13; total time=   0.0s\n",
      "[CV] END .....................................n_neighbors=13; total time=   0.0s\n",
      "[CV] END .....................................n_neighbors=14; total time=   0.0s\n",
      "[CV] END .....................................n_neighbors=14; total time=   0.0s\n",
      "[CV] END .....................................n_neighbors=14; total time=   0.0s\n",
      "[CV] END .....................................n_neighbors=14; total time=   0.0s\n",
      "[CV] END .....................................n_neighbors=14; total time=   0.0s\n",
      "[CV] END .....................................n_neighbors=15; total time=   0.0s\n",
      "[CV] END .....................................n_neighbors=15; total time=   0.0s\n",
      "[CV] END .....................................n_neighbors=15; total time=   0.0s\n",
      "[CV] END .....................................n_neighbors=15; total time=   0.0s\n",
      "[CV] END .....................................n_neighbors=15; total time=   0.0s\n",
      "[CV] END .....................................n_neighbors=16; total time=   0.0s\n",
      "[CV] END .....................................n_neighbors=16; total time=   0.0s\n",
      "[CV] END .....................................n_neighbors=16; total time=   0.0s\n",
      "[CV] END .....................................n_neighbors=16; total time=   0.0s\n",
      "[CV] END .....................................n_neighbors=16; total time=   0.0s\n",
      "[CV] END .....................................n_neighbors=17; total time=   0.0s\n",
      "[CV] END .....................................n_neighbors=17; total time=   0.0s\n",
      "[CV] END .....................................n_neighbors=17; total time=   0.0s\n",
      "[CV] END .....................................n_neighbors=17; total time=   0.0s\n",
      "[CV] END .....................................n_neighbors=17; total time=   0.0s\n",
      "[CV] END .....................................n_neighbors=18; total time=   0.0s\n",
      "[CV] END .....................................n_neighbors=18; total time=   0.0s\n",
      "[CV] END .....................................n_neighbors=18; total time=   0.0s\n",
      "[CV] END .....................................n_neighbors=18; total time=   0.0s\n",
      "[CV] END .....................................n_neighbors=18; total time=   0.0s\n",
      "[CV] END .....................................n_neighbors=19; total time=   0.0s\n",
      "[CV] END .....................................n_neighbors=19; total time=   0.0s\n",
      "[CV] END .....................................n_neighbors=19; total time=   0.0s\n",
      "[CV] END .....................................n_neighbors=19; total time=   0.0s\n",
      "[CV] END .....................................n_neighbors=19; total time=   0.0s\n",
      "[CV] END .....................................n_neighbors=20; total time=   0.0s\n",
      "[CV] END .....................................n_neighbors=20; total time=   0.0s\n",
      "[CV] END .....................................n_neighbors=20; total time=   0.0s\n",
      "[CV] END .....................................n_neighbors=20; total time=   0.0s\n",
      "[CV] END .....................................n_neighbors=20; total time=   0.0s\n",
      "[CV] END .....................................n_neighbors=21; total time=   0.0s\n",
      "[CV] END .....................................n_neighbors=21; total time=   0.0s\n",
      "[CV] END .....................................n_neighbors=21; total time=   0.0s\n",
      "[CV] END .....................................n_neighbors=21; total time=   0.0s\n",
      "[CV] END .....................................n_neighbors=21; total time=   0.0s\n",
      "[CV] END .....................................n_neighbors=22; total time=   0.0s\n",
      "[CV] END .....................................n_neighbors=22; total time=   0.0s\n",
      "[CV] END .....................................n_neighbors=22; total time=   0.0s\n",
      "[CV] END .....................................n_neighbors=22; total time=   0.0s\n",
      "[CV] END .....................................n_neighbors=22; total time=   0.0s\n",
      "[CV] END .....................................n_neighbors=23; total time=   0.0s\n",
      "[CV] END .....................................n_neighbors=23; total time=   0.0s\n",
      "[CV] END .....................................n_neighbors=23; total time=   0.0s\n",
      "[CV] END .....................................n_neighbors=23; total time=   0.0s\n",
      "[CV] END .....................................n_neighbors=23; total time=   0.0s\n",
      "[CV] END .....................................n_neighbors=24; total time=   0.0s\n",
      "[CV] END .....................................n_neighbors=24; total time=   0.0s\n",
      "[CV] END .....................................n_neighbors=24; total time=   0.0s\n",
      "[CV] END .....................................n_neighbors=24; total time=   0.0s\n",
      "[CV] END .....................................n_neighbors=24; total time=   0.0s\n",
      "[CV] END .....................................n_neighbors=25; total time=   0.0s\n",
      "[CV] END .....................................n_neighbors=25; total time=   0.0s\n",
      "[CV] END .....................................n_neighbors=25; total time=   0.0s\n",
      "[CV] END .....................................n_neighbors=25; total time=   0.0s\n",
      "[CV] END .....................................n_neighbors=25; total time=   0.0s\n",
      "[CV] END .....................................n_neighbors=26; total time=   0.0s\n",
      "[CV] END .....................................n_neighbors=26; total time=   0.0s\n",
      "[CV] END .....................................n_neighbors=26; total time=   0.0s\n",
      "[CV] END .....................................n_neighbors=26; total time=   0.0s\n",
      "[CV] END .....................................n_neighbors=26; total time=   0.0s\n",
      "[CV] END .....................................n_neighbors=27; total time=   0.0s\n",
      "[CV] END .....................................n_neighbors=27; total time=   0.0s\n",
      "[CV] END .....................................n_neighbors=27; total time=   0.0s\n",
      "[CV] END .....................................n_neighbors=27; total time=   0.0s\n",
      "[CV] END .....................................n_neighbors=27; total time=   0.0s\n",
      "[CV] END .....................................n_neighbors=28; total time=   0.0s\n",
      "[CV] END .....................................n_neighbors=28; total time=   0.0s\n",
      "[CV] END .....................................n_neighbors=28; total time=   0.0s\n",
      "[CV] END .....................................n_neighbors=28; total time=   0.0s\n",
      "[CV] END .....................................n_neighbors=28; total time=   0.0s\n",
      "[CV] END .....................................n_neighbors=29; total time=   0.0s\n",
      "[CV] END .....................................n_neighbors=29; total time=   0.1s\n",
      "[CV] END .....................................n_neighbors=29; total time=   0.1s\n",
      "[CV] END .....................................n_neighbors=29; total time=   0.1s\n",
      "[CV] END .....................................n_neighbors=29; total time=   0.1s\n",
      "[CV] END .....................................n_neighbors=30; total time=   0.0s\n",
      "[CV] END .....................................n_neighbors=30; total time=   0.1s\n",
      "[CV] END .....................................n_neighbors=30; total time=   0.0s\n",
      "[CV] END .....................................n_neighbors=30; total time=   0.1s\n",
      "[CV] END .....................................n_neighbors=30; total time=   0.1s\n"
     ]
    },
    {
     "data": {
      "text/html": [
       "<style>#sk-container-id-5 {color: black;}#sk-container-id-5 pre{padding: 0;}#sk-container-id-5 div.sk-toggleable {background-color: white;}#sk-container-id-5 label.sk-toggleable__label {cursor: pointer;display: block;width: 100%;margin-bottom: 0;padding: 0.3em;box-sizing: border-box;text-align: center;}#sk-container-id-5 label.sk-toggleable__label-arrow:before {content: \"▸\";float: left;margin-right: 0.25em;color: #696969;}#sk-container-id-5 label.sk-toggleable__label-arrow:hover:before {color: black;}#sk-container-id-5 div.sk-estimator:hover label.sk-toggleable__label-arrow:before {color: black;}#sk-container-id-5 div.sk-toggleable__content {max-height: 0;max-width: 0;overflow: hidden;text-align: left;background-color: #f0f8ff;}#sk-container-id-5 div.sk-toggleable__content pre {margin: 0.2em;color: black;border-radius: 0.25em;background-color: #f0f8ff;}#sk-container-id-5 input.sk-toggleable__control:checked~div.sk-toggleable__content {max-height: 200px;max-width: 100%;overflow: auto;}#sk-container-id-5 input.sk-toggleable__control:checked~label.sk-toggleable__label-arrow:before {content: \"▾\";}#sk-container-id-5 div.sk-estimator input.sk-toggleable__control:checked~label.sk-toggleable__label {background-color: #d4ebff;}#sk-container-id-5 div.sk-label input.sk-toggleable__control:checked~label.sk-toggleable__label {background-color: #d4ebff;}#sk-container-id-5 input.sk-hidden--visually {border: 0;clip: rect(1px 1px 1px 1px);clip: rect(1px, 1px, 1px, 1px);height: 1px;margin: -1px;overflow: hidden;padding: 0;position: absolute;width: 1px;}#sk-container-id-5 div.sk-estimator {font-family: monospace;background-color: #f0f8ff;border: 1px dotted black;border-radius: 0.25em;box-sizing: border-box;margin-bottom: 0.5em;}#sk-container-id-5 div.sk-estimator:hover {background-color: #d4ebff;}#sk-container-id-5 div.sk-parallel-item::after {content: \"\";width: 100%;border-bottom: 1px solid gray;flex-grow: 1;}#sk-container-id-5 div.sk-label:hover label.sk-toggleable__label {background-color: #d4ebff;}#sk-container-id-5 div.sk-serial::before {content: \"\";position: absolute;border-left: 1px solid gray;box-sizing: border-box;top: 0;bottom: 0;left: 50%;z-index: 0;}#sk-container-id-5 div.sk-serial {display: flex;flex-direction: column;align-items: center;background-color: white;padding-right: 0.2em;padding-left: 0.2em;position: relative;}#sk-container-id-5 div.sk-item {position: relative;z-index: 1;}#sk-container-id-5 div.sk-parallel {display: flex;align-items: stretch;justify-content: center;background-color: white;position: relative;}#sk-container-id-5 div.sk-item::before, #sk-container-id-5 div.sk-parallel-item::before {content: \"\";position: absolute;border-left: 1px solid gray;box-sizing: border-box;top: 0;bottom: 0;left: 50%;z-index: -1;}#sk-container-id-5 div.sk-parallel-item {display: flex;flex-direction: column;z-index: 1;position: relative;background-color: white;}#sk-container-id-5 div.sk-parallel-item:first-child::after {align-self: flex-end;width: 50%;}#sk-container-id-5 div.sk-parallel-item:last-child::after {align-self: flex-start;width: 50%;}#sk-container-id-5 div.sk-parallel-item:only-child::after {width: 0;}#sk-container-id-5 div.sk-dashed-wrapped {border: 1px dashed gray;margin: 0 0.4em 0.5em 0.4em;box-sizing: border-box;padding-bottom: 0.4em;background-color: white;}#sk-container-id-5 div.sk-label label {font-family: monospace;font-weight: bold;display: inline-block;line-height: 1.2em;}#sk-container-id-5 div.sk-label-container {text-align: center;}#sk-container-id-5 div.sk-container {/* jupyter's `normalize.less` sets `[hidden] { display: none; }` but bootstrap.min.css set `[hidden] { display: none !important; }` so we also need the `!important` here to be able to override the default hidden behavior on the sphinx rendered scikit-learn.org. See: https://github.com/scikit-learn/scikit-learn/issues/21755 */display: inline-block !important;position: relative;}#sk-container-id-5 div.sk-text-repr-fallback {display: none;}</style><div id=\"sk-container-id-5\" class=\"sk-top-container\"><div class=\"sk-text-repr-fallback\"><pre>GridSearchCV(cv=5, estimator=KNeighborsRegressor(),\n",
       "             param_grid={&#x27;n_neighbors&#x27;: [1, 2, 3, 4, 5, 6, 7, 8, 9, 10, 11, 12,\n",
       "                                         13, 14, 15, 16, 17, 18, 19, 20, 21, 22,\n",
       "                                         23, 24, 25, 26, 27, 28, 29, 30]},\n",
       "             scoring=&#x27;neg_mean_squared_error&#x27;, verbose=2)</pre><b>In a Jupyter environment, please rerun this cell to show the HTML representation or trust the notebook. <br />On GitHub, the HTML representation is unable to render, please try loading this page with nbviewer.org.</b></div><div class=\"sk-container\" hidden><div class=\"sk-item sk-dashed-wrapped\"><div class=\"sk-label-container\"><div class=\"sk-label sk-toggleable\"><input class=\"sk-toggleable__control sk-hidden--visually\" id=\"sk-estimator-id-7\" type=\"checkbox\" ><label for=\"sk-estimator-id-7\" class=\"sk-toggleable__label sk-toggleable__label-arrow\">GridSearchCV</label><div class=\"sk-toggleable__content\"><pre>GridSearchCV(cv=5, estimator=KNeighborsRegressor(),\n",
       "             param_grid={&#x27;n_neighbors&#x27;: [1, 2, 3, 4, 5, 6, 7, 8, 9, 10, 11, 12,\n",
       "                                         13, 14, 15, 16, 17, 18, 19, 20, 21, 22,\n",
       "                                         23, 24, 25, 26, 27, 28, 29, 30]},\n",
       "             scoring=&#x27;neg_mean_squared_error&#x27;, verbose=2)</pre></div></div></div><div class=\"sk-parallel\"><div class=\"sk-parallel-item\"><div class=\"sk-item\"><div class=\"sk-label-container\"><div class=\"sk-label sk-toggleable\"><input class=\"sk-toggleable__control sk-hidden--visually\" id=\"sk-estimator-id-8\" type=\"checkbox\" ><label for=\"sk-estimator-id-8\" class=\"sk-toggleable__label sk-toggleable__label-arrow\">estimator: KNeighborsRegressor</label><div class=\"sk-toggleable__content\"><pre>KNeighborsRegressor()</pre></div></div></div><div class=\"sk-serial\"><div class=\"sk-item\"><div class=\"sk-estimator sk-toggleable\"><input class=\"sk-toggleable__control sk-hidden--visually\" id=\"sk-estimator-id-9\" type=\"checkbox\" ><label for=\"sk-estimator-id-9\" class=\"sk-toggleable__label sk-toggleable__label-arrow\">KNeighborsRegressor</label><div class=\"sk-toggleable__content\"><pre>KNeighborsRegressor()</pre></div></div></div></div></div></div></div></div></div></div>"
      ],
      "text/plain": [
       "GridSearchCV(cv=5, estimator=KNeighborsRegressor(),\n",
       "             param_grid={'n_neighbors': [1, 2, 3, 4, 5, 6, 7, 8, 9, 10, 11, 12,\n",
       "                                         13, 14, 15, 16, 17, 18, 19, 20, 21, 22,\n",
       "                                         23, 24, 25, 26, 27, 28, 29, 30]},\n",
       "             scoring='neg_mean_squared_error', verbose=2)"
      ]
     },
     "execution_count": 64,
     "metadata": {},
     "output_type": "execute_result"
    }
   ],
   "source": [
    "grid_model = GridSearchCV(estimator=model,\n",
    "                          param_grid=param_grid,\n",
    "                          scoring='neg_mean_squared_error',\n",
    "                          cv=5,\n",
    "                          verbose=2)\n",
    "grid_model.fit(X_train,y_train)"
   ]
  },
  {
   "cell_type": "code",
   "execution_count": 65,
   "id": "25218d45-de38-485a-9a90-73ce1c20e2f4",
   "metadata": {},
   "outputs": [],
   "source": [
    "y_pred = grid_model.predict(X_test)"
   ]
  },
  {
   "cell_type": "code",
   "execution_count": 66,
   "id": "0f649927-560c-4b68-a5f2-3701caad7591",
   "metadata": {},
   "outputs": [
    {
     "name": "stdout",
     "output_type": "stream",
     "text": [
      "MAE: 1361.6478176626556\n",
      "RMSE: 2967.440003009985\n",
      "Absolute Error Percentage: 7.5%\n",
      "Quadratic Error Percentage: 16.4%\n"
     ]
    }
   ],
   "source": [
    "show_stat(y_test, y_pred)"
   ]
  },
  {
   "cell_type": "code",
   "execution_count": 67,
   "id": "7a0d86bf-69c5-45ef-81df-6493bee99207",
   "metadata": {},
   "outputs": [],
   "source": [
    "final_model = KNeighborsRegressor(**grid_model.best_estimator_.get_params())"
   ]
  },
  {
   "cell_type": "code",
   "execution_count": 68,
   "id": "de85971a-924d-4569-8fbd-542ea2b9dffd",
   "metadata": {},
   "outputs": [
    {
     "data": {
      "text/html": [
       "<style>#sk-container-id-6 {color: black;}#sk-container-id-6 pre{padding: 0;}#sk-container-id-6 div.sk-toggleable {background-color: white;}#sk-container-id-6 label.sk-toggleable__label {cursor: pointer;display: block;width: 100%;margin-bottom: 0;padding: 0.3em;box-sizing: border-box;text-align: center;}#sk-container-id-6 label.sk-toggleable__label-arrow:before {content: \"▸\";float: left;margin-right: 0.25em;color: #696969;}#sk-container-id-6 label.sk-toggleable__label-arrow:hover:before {color: black;}#sk-container-id-6 div.sk-estimator:hover label.sk-toggleable__label-arrow:before {color: black;}#sk-container-id-6 div.sk-toggleable__content {max-height: 0;max-width: 0;overflow: hidden;text-align: left;background-color: #f0f8ff;}#sk-container-id-6 div.sk-toggleable__content pre {margin: 0.2em;color: black;border-radius: 0.25em;background-color: #f0f8ff;}#sk-container-id-6 input.sk-toggleable__control:checked~div.sk-toggleable__content {max-height: 200px;max-width: 100%;overflow: auto;}#sk-container-id-6 input.sk-toggleable__control:checked~label.sk-toggleable__label-arrow:before {content: \"▾\";}#sk-container-id-6 div.sk-estimator input.sk-toggleable__control:checked~label.sk-toggleable__label {background-color: #d4ebff;}#sk-container-id-6 div.sk-label input.sk-toggleable__control:checked~label.sk-toggleable__label {background-color: #d4ebff;}#sk-container-id-6 input.sk-hidden--visually {border: 0;clip: rect(1px 1px 1px 1px);clip: rect(1px, 1px, 1px, 1px);height: 1px;margin: -1px;overflow: hidden;padding: 0;position: absolute;width: 1px;}#sk-container-id-6 div.sk-estimator {font-family: monospace;background-color: #f0f8ff;border: 1px dotted black;border-radius: 0.25em;box-sizing: border-box;margin-bottom: 0.5em;}#sk-container-id-6 div.sk-estimator:hover {background-color: #d4ebff;}#sk-container-id-6 div.sk-parallel-item::after {content: \"\";width: 100%;border-bottom: 1px solid gray;flex-grow: 1;}#sk-container-id-6 div.sk-label:hover label.sk-toggleable__label {background-color: #d4ebff;}#sk-container-id-6 div.sk-serial::before {content: \"\";position: absolute;border-left: 1px solid gray;box-sizing: border-box;top: 0;bottom: 0;left: 50%;z-index: 0;}#sk-container-id-6 div.sk-serial {display: flex;flex-direction: column;align-items: center;background-color: white;padding-right: 0.2em;padding-left: 0.2em;position: relative;}#sk-container-id-6 div.sk-item {position: relative;z-index: 1;}#sk-container-id-6 div.sk-parallel {display: flex;align-items: stretch;justify-content: center;background-color: white;position: relative;}#sk-container-id-6 div.sk-item::before, #sk-container-id-6 div.sk-parallel-item::before {content: \"\";position: absolute;border-left: 1px solid gray;box-sizing: border-box;top: 0;bottom: 0;left: 50%;z-index: -1;}#sk-container-id-6 div.sk-parallel-item {display: flex;flex-direction: column;z-index: 1;position: relative;background-color: white;}#sk-container-id-6 div.sk-parallel-item:first-child::after {align-self: flex-end;width: 50%;}#sk-container-id-6 div.sk-parallel-item:last-child::after {align-self: flex-start;width: 50%;}#sk-container-id-6 div.sk-parallel-item:only-child::after {width: 0;}#sk-container-id-6 div.sk-dashed-wrapped {border: 1px dashed gray;margin: 0 0.4em 0.5em 0.4em;box-sizing: border-box;padding-bottom: 0.4em;background-color: white;}#sk-container-id-6 div.sk-label label {font-family: monospace;font-weight: bold;display: inline-block;line-height: 1.2em;}#sk-container-id-6 div.sk-label-container {text-align: center;}#sk-container-id-6 div.sk-container {/* jupyter's `normalize.less` sets `[hidden] { display: none; }` but bootstrap.min.css set `[hidden] { display: none !important; }` so we also need the `!important` here to be able to override the default hidden behavior on the sphinx rendered scikit-learn.org. See: https://github.com/scikit-learn/scikit-learn/issues/21755 */display: inline-block !important;position: relative;}#sk-container-id-6 div.sk-text-repr-fallback {display: none;}</style><div id=\"sk-container-id-6\" class=\"sk-top-container\"><div class=\"sk-text-repr-fallback\"><pre>KNeighborsRegressor(n_neighbors=4)</pre><b>In a Jupyter environment, please rerun this cell to show the HTML representation or trust the notebook. <br />On GitHub, the HTML representation is unable to render, please try loading this page with nbviewer.org.</b></div><div class=\"sk-container\" hidden><div class=\"sk-item\"><div class=\"sk-estimator sk-toggleable\"><input class=\"sk-toggleable__control sk-hidden--visually\" id=\"sk-estimator-id-10\" type=\"checkbox\" checked><label for=\"sk-estimator-id-10\" class=\"sk-toggleable__label sk-toggleable__label-arrow\">KNeighborsRegressor</label><div class=\"sk-toggleable__content\"><pre>KNeighborsRegressor(n_neighbors=4)</pre></div></div></div></div></div>"
      ],
      "text/plain": [
       "KNeighborsRegressor(n_neighbors=4)"
      ]
     },
     "execution_count": 68,
     "metadata": {},
     "output_type": "execute_result"
    }
   ],
   "source": [
    "final_model.fit(scaled_X, y)"
   ]
  },
  {
   "cell_type": "code",
   "execution_count": 69,
   "id": "7da0cda5-b52e-437c-9ba5-a412587f6772",
   "metadata": {},
   "outputs": [
    {
     "name": "stdout",
     "output_type": "stream",
     "text": [
      "MAE: 1377.4299408525392\n",
      "RMSE: 2833.958105944263\n",
      "Absolute Error Percentage: 7.6%\n",
      "Quadratic Error Percentage: 15.7%\n"
     ]
    }
   ],
   "source": [
    "y_pred = final_model.predict(X_test)\n",
    "show_stat(y_test, y_pred)"
   ]
  },
  {
   "cell_type": "code",
   "execution_count": 70,
   "id": "4ada6542-e3e8-4310-9c62-980e58586737",
   "metadata": {},
   "outputs": [
    {
     "data": {
      "text/plain": [
       "['models/knn.joblib']"
      ]
     },
     "execution_count": 70,
     "metadata": {},
     "output_type": "execute_result"
    }
   ],
   "source": [
    "joblib.dump(final_model, 'models/knn.joblib')"
   ]
  },
  {
   "cell_type": "markdown",
   "id": "42aa895b-10b5-4b48-9f60-83e73d070cdd",
   "metadata": {},
   "source": [
    "### Support Vector Machine"
   ]
  },
  {
   "cell_type": "code",
   "execution_count": 71,
   "id": "c5957c06-ec28-4aff-809a-0a0534c47ea3",
   "metadata": {},
   "outputs": [],
   "source": [
    "X = df.drop('Цена ($)', axis=1)\n",
    "y = df['Цена ($)']"
   ]
  },
  {
   "cell_type": "code",
   "execution_count": 72,
   "id": "25d326c1-a810-4079-ac95-0d8a2b0c784f",
   "metadata": {},
   "outputs": [],
   "source": [
    "from sklearn.preprocessing import StandardScaler\n",
    "scaler = StandardScaler()\n",
    "scaled_X = scaler.fit_transform(X)"
   ]
  },
  {
   "cell_type": "code",
   "execution_count": 73,
   "id": "c3bb5e0b-92d0-4197-a58c-8a15cd713a36",
   "metadata": {},
   "outputs": [],
   "source": [
    "X_train, X_test, y_train, y_test = train_test_split(scaled_X, y, test_size=0.3, random_state=101)"
   ]
  },
  {
   "cell_type": "code",
   "execution_count": 74,
   "id": "331752b1-0b69-4e47-bce9-38b7d096bb62",
   "metadata": {},
   "outputs": [],
   "source": [
    "scaler = StandardScaler()\n",
    "X_train = scaler.fit_transform(X_train)\n",
    "X_test = scaler.transform(X_test)"
   ]
  },
  {
   "cell_type": "code",
   "execution_count": 75,
   "id": "767ee270-7d06-4b71-ad1a-4b07799263de",
   "metadata": {},
   "outputs": [],
   "source": [
    "from sklearn.svm import SVR\n",
    "model = SVR()"
   ]
  },
  {
   "cell_type": "code",
   "execution_count": 76,
   "id": "56207e68-b312-4134-9c97-25d26bfd942d",
   "metadata": {},
   "outputs": [],
   "source": [
    "param_grid = {'C':[0.001,0.01,0.1,0.5,1],\n",
    "             'kernel':['linear','rbf','poly'],\n",
    "              'gamma':['scale','auto'],\n",
    "              'degree':[2,3,4],\n",
    "              'epsilon':[0,0.01,0.1,0.5,1,2]}"
   ]
  },
  {
   "cell_type": "code",
   "execution_count": 77,
   "id": "fd2093a3-fd96-4a57-a79b-d9cc547e8315",
   "metadata": {},
   "outputs": [],
   "source": [
    "grid_model = GridSearchCV(estimator=model,\n",
    "                          param_grid=param_grid,\n",
    "                          scoring='neg_mean_squared_error',\n",
    "                          cv=5,\n",
    "                          verbose=2)\n",
    "grid_model.fit(X_train,y_train)\n",
    "grid_model = joblib.load('models/SVR_test.joblib')"
   ]
  },
  {
   "cell_type": "code",
   "execution_count": 78,
   "id": "a0a9e351-64ea-4ed2-b20d-9293afcc097d",
   "metadata": {},
   "outputs": [],
   "source": [
    "y_pred = grid_model.predict(X_test)"
   ]
  },
  {
   "cell_type": "code",
   "execution_count": 79,
   "id": "270f8f28-877a-4045-9893-7c6e8bf7697b",
   "metadata": {},
   "outputs": [],
   "source": [
    "show_stat(y_test, y_pred)"
   ]
  },
  {
   "cell_type": "code",
   "execution_count": 80,
   "id": "634b5864-c381-46e7-b868-3dfcd1575223",
   "metadata": {},
   "outputs": [],
   "source": [
    "final_model = SVR(**grid_model.best_estimator_.get_params())\n",
    "final_model = joblib.load('models/SVM.joblib')"
   ]
  },
  {
   "cell_type": "code",
   "execution_count": 81,
   "id": "1fceb7dc-2c73-455f-be6f-5448ed8fbc62",
   "metadata": {},
   "outputs": [],
   "source": [
    "final_model.fit(scaled_X, y)"
   ]
  },
  {
   "cell_type": "code",
   "execution_count": 82,
   "id": "231209b8-e856-415a-af67-84b7a94149bb",
   "metadata": {},
   "outputs": [],
   "source": [
    "y_pred = final_model.predict(X_test)\n",
    "show_stat(y_test, y_pred)"
   ]
  },
  {
   "cell_type": "code",
   "execution_count": 83,
   "id": "8bcbc51f-24d4-487e-8915-ecb0bbb669d4",
   "metadata": {},
   "outputs": [],
   "source": [
    "joblib.dump(final_model, 'models/SVM.joblib')"
   ]
  },
  {
   "cell_type": "markdown",
   "id": "dad9b0d3-ea7d-40a5-b84f-c3915905a3d8",
   "metadata": {},
   "source": [
    "### Random Forest"
   ]
  },
  {
   "cell_type": "code",
   "execution_count": 84,
   "id": "8dfe9898-492f-4208-8d54-19765f6bfc2b",
   "metadata": {},
   "outputs": [],
   "source": [
    "X = df.drop('Цена ($)', axis=1)\n",
    "y = df['Цена ($)']"
   ]
  },
  {
   "cell_type": "code",
   "execution_count": 85,
   "id": "53b85b99-7a5b-46ef-8e84-1ca14ed8dcd5",
   "metadata": {},
   "outputs": [],
   "source": [
    "from sklearn.preprocessing import StandardScaler\n",
    "scaler = StandardScaler()\n",
    "scaled_X = scaler.fit_transform(X)"
   ]
  },
  {
   "cell_type": "code",
   "execution_count": 86,
   "id": "0093100d-2486-42b9-9990-a4167ffbf736",
   "metadata": {},
   "outputs": [],
   "source": [
    "X_train, X_test, y_train, y_test = train_test_split(scaled_X, y, test_size=0.3, random_state=101)"
   ]
  },
  {
   "cell_type": "code",
   "execution_count": 87,
   "id": "eb7ad6ce-72c3-4b06-8128-d7e9051de441",
   "metadata": {},
   "outputs": [],
   "source": [
    "from sklearn.ensemble import RandomForestRegressor\n",
    "model = RandomForestRegressor()"
   ]
  },
  {
   "cell_type": "code",
   "execution_count": 88,
   "id": "87db3ab1-bcde-49fc-a9d5-f68ed84399df",
   "metadata": {},
   "outputs": [],
   "source": [
    "param_grid = {'n_estimators': [10,50,100]}"
   ]
  },
  {
   "cell_type": "code",
   "execution_count": 89,
   "id": "8fbbb446-9424-432b-ba5e-9d4bfa79d067",
   "metadata": {},
   "outputs": [
    {
     "name": "stdout",
     "output_type": "stream",
     "text": [
      "Fitting 5 folds for each of 3 candidates, totalling 15 fits\n",
      "[CV] END ....................................n_estimators=10; total time=   0.2s\n",
      "[CV] END ....................................n_estimators=10; total time=   0.2s\n",
      "[CV] END ....................................n_estimators=10; total time=   0.2s\n",
      "[CV] END ....................................n_estimators=10; total time=   0.2s\n",
      "[CV] END ....................................n_estimators=10; total time=   0.2s\n",
      "[CV] END ....................................n_estimators=50; total time=   0.8s\n",
      "[CV] END ....................................n_estimators=50; total time=   0.8s\n",
      "[CV] END ....................................n_estimators=50; total time=   0.8s\n",
      "[CV] END ....................................n_estimators=50; total time=   0.8s\n",
      "[CV] END ....................................n_estimators=50; total time=   0.8s\n",
      "[CV] END ...................................n_estimators=100; total time=   1.6s\n",
      "[CV] END ...................................n_estimators=100; total time=   1.6s\n",
      "[CV] END ...................................n_estimators=100; total time=   1.6s\n",
      "[CV] END ...................................n_estimators=100; total time=   1.6s\n",
      "[CV] END ...................................n_estimators=100; total time=   1.6s\n"
     ]
    },
    {
     "data": {
      "text/html": [
       "<style>#sk-container-id-7 {color: black;}#sk-container-id-7 pre{padding: 0;}#sk-container-id-7 div.sk-toggleable {background-color: white;}#sk-container-id-7 label.sk-toggleable__label {cursor: pointer;display: block;width: 100%;margin-bottom: 0;padding: 0.3em;box-sizing: border-box;text-align: center;}#sk-container-id-7 label.sk-toggleable__label-arrow:before {content: \"▸\";float: left;margin-right: 0.25em;color: #696969;}#sk-container-id-7 label.sk-toggleable__label-arrow:hover:before {color: black;}#sk-container-id-7 div.sk-estimator:hover label.sk-toggleable__label-arrow:before {color: black;}#sk-container-id-7 div.sk-toggleable__content {max-height: 0;max-width: 0;overflow: hidden;text-align: left;background-color: #f0f8ff;}#sk-container-id-7 div.sk-toggleable__content pre {margin: 0.2em;color: black;border-radius: 0.25em;background-color: #f0f8ff;}#sk-container-id-7 input.sk-toggleable__control:checked~div.sk-toggleable__content {max-height: 200px;max-width: 100%;overflow: auto;}#sk-container-id-7 input.sk-toggleable__control:checked~label.sk-toggleable__label-arrow:before {content: \"▾\";}#sk-container-id-7 div.sk-estimator input.sk-toggleable__control:checked~label.sk-toggleable__label {background-color: #d4ebff;}#sk-container-id-7 div.sk-label input.sk-toggleable__control:checked~label.sk-toggleable__label {background-color: #d4ebff;}#sk-container-id-7 input.sk-hidden--visually {border: 0;clip: rect(1px 1px 1px 1px);clip: rect(1px, 1px, 1px, 1px);height: 1px;margin: -1px;overflow: hidden;padding: 0;position: absolute;width: 1px;}#sk-container-id-7 div.sk-estimator {font-family: monospace;background-color: #f0f8ff;border: 1px dotted black;border-radius: 0.25em;box-sizing: border-box;margin-bottom: 0.5em;}#sk-container-id-7 div.sk-estimator:hover {background-color: #d4ebff;}#sk-container-id-7 div.sk-parallel-item::after {content: \"\";width: 100%;border-bottom: 1px solid gray;flex-grow: 1;}#sk-container-id-7 div.sk-label:hover label.sk-toggleable__label {background-color: #d4ebff;}#sk-container-id-7 div.sk-serial::before {content: \"\";position: absolute;border-left: 1px solid gray;box-sizing: border-box;top: 0;bottom: 0;left: 50%;z-index: 0;}#sk-container-id-7 div.sk-serial {display: flex;flex-direction: column;align-items: center;background-color: white;padding-right: 0.2em;padding-left: 0.2em;position: relative;}#sk-container-id-7 div.sk-item {position: relative;z-index: 1;}#sk-container-id-7 div.sk-parallel {display: flex;align-items: stretch;justify-content: center;background-color: white;position: relative;}#sk-container-id-7 div.sk-item::before, #sk-container-id-7 div.sk-parallel-item::before {content: \"\";position: absolute;border-left: 1px solid gray;box-sizing: border-box;top: 0;bottom: 0;left: 50%;z-index: -1;}#sk-container-id-7 div.sk-parallel-item {display: flex;flex-direction: column;z-index: 1;position: relative;background-color: white;}#sk-container-id-7 div.sk-parallel-item:first-child::after {align-self: flex-end;width: 50%;}#sk-container-id-7 div.sk-parallel-item:last-child::after {align-self: flex-start;width: 50%;}#sk-container-id-7 div.sk-parallel-item:only-child::after {width: 0;}#sk-container-id-7 div.sk-dashed-wrapped {border: 1px dashed gray;margin: 0 0.4em 0.5em 0.4em;box-sizing: border-box;padding-bottom: 0.4em;background-color: white;}#sk-container-id-7 div.sk-label label {font-family: monospace;font-weight: bold;display: inline-block;line-height: 1.2em;}#sk-container-id-7 div.sk-label-container {text-align: center;}#sk-container-id-7 div.sk-container {/* jupyter's `normalize.less` sets `[hidden] { display: none; }` but bootstrap.min.css set `[hidden] { display: none !important; }` so we also need the `!important` here to be able to override the default hidden behavior on the sphinx rendered scikit-learn.org. See: https://github.com/scikit-learn/scikit-learn/issues/21755 */display: inline-block !important;position: relative;}#sk-container-id-7 div.sk-text-repr-fallback {display: none;}</style><div id=\"sk-container-id-7\" class=\"sk-top-container\"><div class=\"sk-text-repr-fallback\"><pre>GridSearchCV(cv=5, estimator=RandomForestRegressor(),\n",
       "             param_grid={&#x27;n_estimators&#x27;: [10, 50, 100]},\n",
       "             scoring=&#x27;neg_mean_squared_error&#x27;, verbose=2)</pre><b>In a Jupyter environment, please rerun this cell to show the HTML representation or trust the notebook. <br />On GitHub, the HTML representation is unable to render, please try loading this page with nbviewer.org.</b></div><div class=\"sk-container\" hidden><div class=\"sk-item sk-dashed-wrapped\"><div class=\"sk-label-container\"><div class=\"sk-label sk-toggleable\"><input class=\"sk-toggleable__control sk-hidden--visually\" id=\"sk-estimator-id-11\" type=\"checkbox\" ><label for=\"sk-estimator-id-11\" class=\"sk-toggleable__label sk-toggleable__label-arrow\">GridSearchCV</label><div class=\"sk-toggleable__content\"><pre>GridSearchCV(cv=5, estimator=RandomForestRegressor(),\n",
       "             param_grid={&#x27;n_estimators&#x27;: [10, 50, 100]},\n",
       "             scoring=&#x27;neg_mean_squared_error&#x27;, verbose=2)</pre></div></div></div><div class=\"sk-parallel\"><div class=\"sk-parallel-item\"><div class=\"sk-item\"><div class=\"sk-label-container\"><div class=\"sk-label sk-toggleable\"><input class=\"sk-toggleable__control sk-hidden--visually\" id=\"sk-estimator-id-12\" type=\"checkbox\" ><label for=\"sk-estimator-id-12\" class=\"sk-toggleable__label sk-toggleable__label-arrow\">estimator: RandomForestRegressor</label><div class=\"sk-toggleable__content\"><pre>RandomForestRegressor()</pre></div></div></div><div class=\"sk-serial\"><div class=\"sk-item\"><div class=\"sk-estimator sk-toggleable\"><input class=\"sk-toggleable__control sk-hidden--visually\" id=\"sk-estimator-id-13\" type=\"checkbox\" ><label for=\"sk-estimator-id-13\" class=\"sk-toggleable__label sk-toggleable__label-arrow\">RandomForestRegressor</label><div class=\"sk-toggleable__content\"><pre>RandomForestRegressor()</pre></div></div></div></div></div></div></div></div></div></div>"
      ],
      "text/plain": [
       "GridSearchCV(cv=5, estimator=RandomForestRegressor(),\n",
       "             param_grid={'n_estimators': [10, 50, 100]},\n",
       "             scoring='neg_mean_squared_error', verbose=2)"
      ]
     },
     "execution_count": 89,
     "metadata": {},
     "output_type": "execute_result"
    }
   ],
   "source": [
    "grid_model = GridSearchCV(estimator=model,\n",
    "                          param_grid=param_grid,\n",
    "                          scoring='neg_mean_squared_error',\n",
    "                          cv=5,\n",
    "                          verbose=2)\n",
    "grid_model.fit(X_train,y_train)"
   ]
  },
  {
   "cell_type": "code",
   "execution_count": 90,
   "id": "bcfa2db3-8f2d-4952-b05c-e0bb4130bbfa",
   "metadata": {},
   "outputs": [],
   "source": [
    "y_pred = grid_model.predict(X_test)"
   ]
  },
  {
   "cell_type": "code",
   "execution_count": 91,
   "id": "f1946236-85b7-49b4-8a04-f60de3c7b9b3",
   "metadata": {},
   "outputs": [
    {
     "name": "stdout",
     "output_type": "stream",
     "text": [
      "MAE: 1101.164387437886\n",
      "RMSE: 2330.185388252202\n",
      "Absolute Error Percentage: 6.1%\n",
      "Quadratic Error Percentage: 12.9%\n"
     ]
    }
   ],
   "source": [
    "show_stat(y_test, y_pred)"
   ]
  },
  {
   "cell_type": "code",
   "execution_count": 92,
   "id": "c7f1cec4-8530-4f95-b3d3-e1c75c875a51",
   "metadata": {},
   "outputs": [],
   "source": [
    "final_model = RandomForestRegressor(**grid_model.best_estimator_.get_params())"
   ]
  },
  {
   "cell_type": "code",
   "execution_count": 93,
   "id": "fa22f8f6-2ac8-4d38-a33f-0704137b0092",
   "metadata": {},
   "outputs": [
    {
     "data": {
      "text/html": [
       "<style>#sk-container-id-8 {color: black;}#sk-container-id-8 pre{padding: 0;}#sk-container-id-8 div.sk-toggleable {background-color: white;}#sk-container-id-8 label.sk-toggleable__label {cursor: pointer;display: block;width: 100%;margin-bottom: 0;padding: 0.3em;box-sizing: border-box;text-align: center;}#sk-container-id-8 label.sk-toggleable__label-arrow:before {content: \"▸\";float: left;margin-right: 0.25em;color: #696969;}#sk-container-id-8 label.sk-toggleable__label-arrow:hover:before {color: black;}#sk-container-id-8 div.sk-estimator:hover label.sk-toggleable__label-arrow:before {color: black;}#sk-container-id-8 div.sk-toggleable__content {max-height: 0;max-width: 0;overflow: hidden;text-align: left;background-color: #f0f8ff;}#sk-container-id-8 div.sk-toggleable__content pre {margin: 0.2em;color: black;border-radius: 0.25em;background-color: #f0f8ff;}#sk-container-id-8 input.sk-toggleable__control:checked~div.sk-toggleable__content {max-height: 200px;max-width: 100%;overflow: auto;}#sk-container-id-8 input.sk-toggleable__control:checked~label.sk-toggleable__label-arrow:before {content: \"▾\";}#sk-container-id-8 div.sk-estimator input.sk-toggleable__control:checked~label.sk-toggleable__label {background-color: #d4ebff;}#sk-container-id-8 div.sk-label input.sk-toggleable__control:checked~label.sk-toggleable__label {background-color: #d4ebff;}#sk-container-id-8 input.sk-hidden--visually {border: 0;clip: rect(1px 1px 1px 1px);clip: rect(1px, 1px, 1px, 1px);height: 1px;margin: -1px;overflow: hidden;padding: 0;position: absolute;width: 1px;}#sk-container-id-8 div.sk-estimator {font-family: monospace;background-color: #f0f8ff;border: 1px dotted black;border-radius: 0.25em;box-sizing: border-box;margin-bottom: 0.5em;}#sk-container-id-8 div.sk-estimator:hover {background-color: #d4ebff;}#sk-container-id-8 div.sk-parallel-item::after {content: \"\";width: 100%;border-bottom: 1px solid gray;flex-grow: 1;}#sk-container-id-8 div.sk-label:hover label.sk-toggleable__label {background-color: #d4ebff;}#sk-container-id-8 div.sk-serial::before {content: \"\";position: absolute;border-left: 1px solid gray;box-sizing: border-box;top: 0;bottom: 0;left: 50%;z-index: 0;}#sk-container-id-8 div.sk-serial {display: flex;flex-direction: column;align-items: center;background-color: white;padding-right: 0.2em;padding-left: 0.2em;position: relative;}#sk-container-id-8 div.sk-item {position: relative;z-index: 1;}#sk-container-id-8 div.sk-parallel {display: flex;align-items: stretch;justify-content: center;background-color: white;position: relative;}#sk-container-id-8 div.sk-item::before, #sk-container-id-8 div.sk-parallel-item::before {content: \"\";position: absolute;border-left: 1px solid gray;box-sizing: border-box;top: 0;bottom: 0;left: 50%;z-index: -1;}#sk-container-id-8 div.sk-parallel-item {display: flex;flex-direction: column;z-index: 1;position: relative;background-color: white;}#sk-container-id-8 div.sk-parallel-item:first-child::after {align-self: flex-end;width: 50%;}#sk-container-id-8 div.sk-parallel-item:last-child::after {align-self: flex-start;width: 50%;}#sk-container-id-8 div.sk-parallel-item:only-child::after {width: 0;}#sk-container-id-8 div.sk-dashed-wrapped {border: 1px dashed gray;margin: 0 0.4em 0.5em 0.4em;box-sizing: border-box;padding-bottom: 0.4em;background-color: white;}#sk-container-id-8 div.sk-label label {font-family: monospace;font-weight: bold;display: inline-block;line-height: 1.2em;}#sk-container-id-8 div.sk-label-container {text-align: center;}#sk-container-id-8 div.sk-container {/* jupyter's `normalize.less` sets `[hidden] { display: none; }` but bootstrap.min.css set `[hidden] { display: none !important; }` so we also need the `!important` here to be able to override the default hidden behavior on the sphinx rendered scikit-learn.org. See: https://github.com/scikit-learn/scikit-learn/issues/21755 */display: inline-block !important;position: relative;}#sk-container-id-8 div.sk-text-repr-fallback {display: none;}</style><div id=\"sk-container-id-8\" class=\"sk-top-container\"><div class=\"sk-text-repr-fallback\"><pre>RandomForestRegressor(n_estimators=50)</pre><b>In a Jupyter environment, please rerun this cell to show the HTML representation or trust the notebook. <br />On GitHub, the HTML representation is unable to render, please try loading this page with nbviewer.org.</b></div><div class=\"sk-container\" hidden><div class=\"sk-item\"><div class=\"sk-estimator sk-toggleable\"><input class=\"sk-toggleable__control sk-hidden--visually\" id=\"sk-estimator-id-14\" type=\"checkbox\" checked><label for=\"sk-estimator-id-14\" class=\"sk-toggleable__label sk-toggleable__label-arrow\">RandomForestRegressor</label><div class=\"sk-toggleable__content\"><pre>RandomForestRegressor(n_estimators=50)</pre></div></div></div></div></div>"
      ],
      "text/plain": [
       "RandomForestRegressor(n_estimators=50)"
      ]
     },
     "execution_count": 93,
     "metadata": {},
     "output_type": "execute_result"
    }
   ],
   "source": [
    "final_model.fit(scaled_X, y)"
   ]
  },
  {
   "cell_type": "code",
   "execution_count": 94,
   "id": "90fb1465-15ff-48f9-aaec-ebdf104a753b",
   "metadata": {},
   "outputs": [
    {
     "name": "stdout",
     "output_type": "stream",
     "text": [
      "MAE: 769.0231885760984\n",
      "RMSE: 1947.6949325288938\n",
      "Absolute Error Percentage: 4.3%\n",
      "Quadratic Error Percentage: 10.8%\n"
     ]
    }
   ],
   "source": [
    "y_pred = final_model.predict(X_test)\n",
    "show_stat(y_test, y_pred)"
   ]
  },
  {
   "cell_type": "code",
   "execution_count": 95,
   "id": "f77dddf3-c39c-421f-ae74-aa7dc1af813a",
   "metadata": {},
   "outputs": [
    {
     "data": {
      "text/plain": [
       "['models/random_forest.joblib']"
      ]
     },
     "execution_count": 95,
     "metadata": {},
     "output_type": "execute_result"
    }
   ],
   "source": [
    "joblib.dump(final_model, 'models/random_forest.joblib')"
   ]
  },
  {
   "cell_type": "markdown",
   "id": "2d1b3dca-dd33-4167-b1ba-e2532b19997e",
   "metadata": {},
   "source": [
    "### Gradient Boosting"
   ]
  },
  {
   "cell_type": "code",
   "execution_count": 96,
   "id": "555407f4-4ba4-4aa6-9d54-229caea1a790",
   "metadata": {},
   "outputs": [],
   "source": [
    "X = df.drop('Цена ($)', axis=1)\n",
    "y = df['Цена ($)']"
   ]
  },
  {
   "cell_type": "code",
   "execution_count": 97,
   "id": "71079ffb-6b89-4906-8f67-efd4b1734d20",
   "metadata": {},
   "outputs": [],
   "source": [
    "from sklearn.preprocessing import StandardScaler\n",
    "scaler = StandardScaler()\n",
    "scaled_X = scaler.fit_transform(X)"
   ]
  },
  {
   "cell_type": "code",
   "execution_count": 98,
   "id": "36b9e548-6ec7-497f-a708-a1284f35e62c",
   "metadata": {},
   "outputs": [],
   "source": [
    "X_train, X_test, y_train, y_test = train_test_split(scaled_X, y, test_size=0.3, random_state=101)"
   ]
  },
  {
   "cell_type": "code",
   "execution_count": 99,
   "id": "84c00336-e855-439a-a930-7f169cee5087",
   "metadata": {},
   "outputs": [],
   "source": [
    "from sklearn.ensemble import GradientBoostingRegressor\n",
    "model = GradientBoostingRegressor()"
   ]
  },
  {
   "cell_type": "code",
   "execution_count": 100,
   "id": "39d79142-20d2-462a-a358-dde600bf0c0c",
   "metadata": {},
   "outputs": [],
   "source": [
    "param_grid = {\"n_estimators\":[1,5,10,20,40,100],'max_depth':[3,4,5,6]}"
   ]
  },
  {
   "cell_type": "code",
   "execution_count": 101,
   "id": "9cca7b35-1e7a-44c6-9dd7-d7f0fb24da5e",
   "metadata": {},
   "outputs": [
    {
     "name": "stdout",
     "output_type": "stream",
     "text": [
      "Fitting 5 folds for each of 24 candidates, totalling 120 fits\n",
      "[CV] END ........................max_depth=3, n_estimators=1; total time=   0.0s\n",
      "[CV] END ........................max_depth=3, n_estimators=1; total time=   0.0s\n",
      "[CV] END ........................max_depth=3, n_estimators=1; total time=   0.0s\n",
      "[CV] END ........................max_depth=3, n_estimators=1; total time=   0.0s\n",
      "[CV] END ........................max_depth=3, n_estimators=1; total time=   0.0s\n",
      "[CV] END ........................max_depth=3, n_estimators=5; total time=   0.0s\n",
      "[CV] END ........................max_depth=3, n_estimators=5; total time=   0.0s\n",
      "[CV] END ........................max_depth=3, n_estimators=5; total time=   0.0s\n",
      "[CV] END ........................max_depth=3, n_estimators=5; total time=   0.0s\n",
      "[CV] END ........................max_depth=3, n_estimators=5; total time=   0.0s\n",
      "[CV] END .......................max_depth=3, n_estimators=10; total time=   0.1s\n",
      "[CV] END .......................max_depth=3, n_estimators=10; total time=   0.1s\n",
      "[CV] END .......................max_depth=3, n_estimators=10; total time=   0.1s\n",
      "[CV] END .......................max_depth=3, n_estimators=10; total time=   0.1s\n",
      "[CV] END .......................max_depth=3, n_estimators=10; total time=   0.1s\n",
      "[CV] END .......................max_depth=3, n_estimators=20; total time=   0.1s\n",
      "[CV] END .......................max_depth=3, n_estimators=20; total time=   0.1s\n",
      "[CV] END .......................max_depth=3, n_estimators=20; total time=   0.1s\n",
      "[CV] END .......................max_depth=3, n_estimators=20; total time=   0.1s\n",
      "[CV] END .......................max_depth=3, n_estimators=20; total time=   0.1s\n",
      "[CV] END .......................max_depth=3, n_estimators=40; total time=   0.2s\n",
      "[CV] END .......................max_depth=3, n_estimators=40; total time=   0.2s\n",
      "[CV] END .......................max_depth=3, n_estimators=40; total time=   0.2s\n",
      "[CV] END .......................max_depth=3, n_estimators=40; total time=   0.2s\n",
      "[CV] END .......................max_depth=3, n_estimators=40; total time=   0.2s\n",
      "[CV] END ......................max_depth=3, n_estimators=100; total time=   0.6s\n",
      "[CV] END ......................max_depth=3, n_estimators=100; total time=   0.6s\n",
      "[CV] END ......................max_depth=3, n_estimators=100; total time=   0.6s\n",
      "[CV] END ......................max_depth=3, n_estimators=100; total time=   0.6s\n",
      "[CV] END ......................max_depth=3, n_estimators=100; total time=   0.6s\n",
      "[CV] END ........................max_depth=4, n_estimators=1; total time=   0.0s\n",
      "[CV] END ........................max_depth=4, n_estimators=1; total time=   0.0s\n",
      "[CV] END ........................max_depth=4, n_estimators=1; total time=   0.0s\n",
      "[CV] END ........................max_depth=4, n_estimators=1; total time=   0.0s\n",
      "[CV] END ........................max_depth=4, n_estimators=1; total time=   0.0s\n",
      "[CV] END ........................max_depth=4, n_estimators=5; total time=   0.0s\n",
      "[CV] END ........................max_depth=4, n_estimators=5; total time=   0.0s\n",
      "[CV] END ........................max_depth=4, n_estimators=5; total time=   0.0s\n",
      "[CV] END ........................max_depth=4, n_estimators=5; total time=   0.0s\n",
      "[CV] END ........................max_depth=4, n_estimators=5; total time=   0.0s\n",
      "[CV] END .......................max_depth=4, n_estimators=10; total time=   0.1s\n",
      "[CV] END .......................max_depth=4, n_estimators=10; total time=   0.1s\n",
      "[CV] END .......................max_depth=4, n_estimators=10; total time=   0.1s\n",
      "[CV] END .......................max_depth=4, n_estimators=10; total time=   0.1s\n",
      "[CV] END .......................max_depth=4, n_estimators=10; total time=   0.1s\n",
      "[CV] END .......................max_depth=4, n_estimators=20; total time=   0.1s\n",
      "[CV] END .......................max_depth=4, n_estimators=20; total time=   0.1s\n",
      "[CV] END .......................max_depth=4, n_estimators=20; total time=   0.1s\n",
      "[CV] END .......................max_depth=4, n_estimators=20; total time=   0.1s\n",
      "[CV] END .......................max_depth=4, n_estimators=20; total time=   0.1s\n",
      "[CV] END .......................max_depth=4, n_estimators=40; total time=   0.3s\n",
      "[CV] END .......................max_depth=4, n_estimators=40; total time=   0.3s\n",
      "[CV] END .......................max_depth=4, n_estimators=40; total time=   0.3s\n",
      "[CV] END .......................max_depth=4, n_estimators=40; total time=   0.3s\n",
      "[CV] END .......................max_depth=4, n_estimators=40; total time=   0.3s\n",
      "[CV] END ......................max_depth=4, n_estimators=100; total time=   0.7s\n",
      "[CV] END ......................max_depth=4, n_estimators=100; total time=   0.7s\n",
      "[CV] END ......................max_depth=4, n_estimators=100; total time=   0.7s\n",
      "[CV] END ......................max_depth=4, n_estimators=100; total time=   0.7s\n",
      "[CV] END ......................max_depth=4, n_estimators=100; total time=   0.7s\n",
      "[CV] END ........................max_depth=5, n_estimators=1; total time=   0.0s\n",
      "[CV] END ........................max_depth=5, n_estimators=1; total time=   0.0s\n",
      "[CV] END ........................max_depth=5, n_estimators=1; total time=   0.0s\n",
      "[CV] END ........................max_depth=5, n_estimators=1; total time=   0.0s\n",
      "[CV] END ........................max_depth=5, n_estimators=1; total time=   0.0s\n",
      "[CV] END ........................max_depth=5, n_estimators=5; total time=   0.0s\n",
      "[CV] END ........................max_depth=5, n_estimators=5; total time=   0.0s\n",
      "[CV] END ........................max_depth=5, n_estimators=5; total time=   0.0s\n",
      "[CV] END ........................max_depth=5, n_estimators=5; total time=   0.0s\n",
      "[CV] END ........................max_depth=5, n_estimators=5; total time=   0.0s\n",
      "[CV] END .......................max_depth=5, n_estimators=10; total time=   0.1s\n",
      "[CV] END .......................max_depth=5, n_estimators=10; total time=   0.1s\n",
      "[CV] END .......................max_depth=5, n_estimators=10; total time=   0.1s\n",
      "[CV] END .......................max_depth=5, n_estimators=10; total time=   0.1s\n",
      "[CV] END .......................max_depth=5, n_estimators=10; total time=   0.1s\n",
      "[CV] END .......................max_depth=5, n_estimators=20; total time=   0.2s\n",
      "[CV] END .......................max_depth=5, n_estimators=20; total time=   0.2s\n",
      "[CV] END .......................max_depth=5, n_estimators=20; total time=   0.2s\n",
      "[CV] END .......................max_depth=5, n_estimators=20; total time=   0.2s\n",
      "[CV] END .......................max_depth=5, n_estimators=20; total time=   0.2s\n",
      "[CV] END .......................max_depth=5, n_estimators=40; total time=   0.4s\n",
      "[CV] END .......................max_depth=5, n_estimators=40; total time=   0.4s\n",
      "[CV] END .......................max_depth=5, n_estimators=40; total time=   0.4s\n",
      "[CV] END .......................max_depth=5, n_estimators=40; total time=   0.4s\n",
      "[CV] END .......................max_depth=5, n_estimators=40; total time=   0.4s\n",
      "[CV] END ......................max_depth=5, n_estimators=100; total time=   0.9s\n",
      "[CV] END ......................max_depth=5, n_estimators=100; total time=   1.0s\n",
      "[CV] END ......................max_depth=5, n_estimators=100; total time=   1.0s\n",
      "[CV] END ......................max_depth=5, n_estimators=100; total time=   0.9s\n",
      "[CV] END ......................max_depth=5, n_estimators=100; total time=   0.9s\n",
      "[CV] END ........................max_depth=6, n_estimators=1; total time=   0.0s\n",
      "[CV] END ........................max_depth=6, n_estimators=1; total time=   0.0s\n",
      "[CV] END ........................max_depth=6, n_estimators=1; total time=   0.0s\n",
      "[CV] END ........................max_depth=6, n_estimators=1; total time=   0.0s\n",
      "[CV] END ........................max_depth=6, n_estimators=1; total time=   0.0s\n",
      "[CV] END ........................max_depth=6, n_estimators=5; total time=   0.1s\n",
      "[CV] END ........................max_depth=6, n_estimators=5; total time=   0.1s\n",
      "[CV] END ........................max_depth=6, n_estimators=5; total time=   0.1s\n",
      "[CV] END ........................max_depth=6, n_estimators=5; total time=   0.1s\n",
      "[CV] END ........................max_depth=6, n_estimators=5; total time=   0.1s\n",
      "[CV] END .......................max_depth=6, n_estimators=10; total time=   0.1s\n",
      "[CV] END .......................max_depth=6, n_estimators=10; total time=   0.1s\n",
      "[CV] END .......................max_depth=6, n_estimators=10; total time=   0.1s\n",
      "[CV] END .......................max_depth=6, n_estimators=10; total time=   0.1s\n",
      "[CV] END .......................max_depth=6, n_estimators=10; total time=   0.1s\n",
      "[CV] END .......................max_depth=6, n_estimators=20; total time=   0.2s\n",
      "[CV] END .......................max_depth=6, n_estimators=20; total time=   0.2s\n",
      "[CV] END .......................max_depth=6, n_estimators=20; total time=   0.2s\n",
      "[CV] END .......................max_depth=6, n_estimators=20; total time=   0.2s\n",
      "[CV] END .......................max_depth=6, n_estimators=20; total time=   0.2s\n",
      "[CV] END .......................max_depth=6, n_estimators=40; total time=   0.4s\n",
      "[CV] END .......................max_depth=6, n_estimators=40; total time=   0.4s\n",
      "[CV] END .......................max_depth=6, n_estimators=40; total time=   0.4s\n",
      "[CV] END .......................max_depth=6, n_estimators=40; total time=   0.4s\n",
      "[CV] END .......................max_depth=6, n_estimators=40; total time=   0.4s\n",
      "[CV] END ......................max_depth=6, n_estimators=100; total time=   1.0s\n",
      "[CV] END ......................max_depth=6, n_estimators=100; total time=   1.0s\n",
      "[CV] END ......................max_depth=6, n_estimators=100; total time=   1.0s\n",
      "[CV] END ......................max_depth=6, n_estimators=100; total time=   1.0s\n",
      "[CV] END ......................max_depth=6, n_estimators=100; total time=   1.0s\n"
     ]
    },
    {
     "data": {
      "text/html": [
       "<style>#sk-container-id-9 {color: black;}#sk-container-id-9 pre{padding: 0;}#sk-container-id-9 div.sk-toggleable {background-color: white;}#sk-container-id-9 label.sk-toggleable__label {cursor: pointer;display: block;width: 100%;margin-bottom: 0;padding: 0.3em;box-sizing: border-box;text-align: center;}#sk-container-id-9 label.sk-toggleable__label-arrow:before {content: \"▸\";float: left;margin-right: 0.25em;color: #696969;}#sk-container-id-9 label.sk-toggleable__label-arrow:hover:before {color: black;}#sk-container-id-9 div.sk-estimator:hover label.sk-toggleable__label-arrow:before {color: black;}#sk-container-id-9 div.sk-toggleable__content {max-height: 0;max-width: 0;overflow: hidden;text-align: left;background-color: #f0f8ff;}#sk-container-id-9 div.sk-toggleable__content pre {margin: 0.2em;color: black;border-radius: 0.25em;background-color: #f0f8ff;}#sk-container-id-9 input.sk-toggleable__control:checked~div.sk-toggleable__content {max-height: 200px;max-width: 100%;overflow: auto;}#sk-container-id-9 input.sk-toggleable__control:checked~label.sk-toggleable__label-arrow:before {content: \"▾\";}#sk-container-id-9 div.sk-estimator input.sk-toggleable__control:checked~label.sk-toggleable__label {background-color: #d4ebff;}#sk-container-id-9 div.sk-label input.sk-toggleable__control:checked~label.sk-toggleable__label {background-color: #d4ebff;}#sk-container-id-9 input.sk-hidden--visually {border: 0;clip: rect(1px 1px 1px 1px);clip: rect(1px, 1px, 1px, 1px);height: 1px;margin: -1px;overflow: hidden;padding: 0;position: absolute;width: 1px;}#sk-container-id-9 div.sk-estimator {font-family: monospace;background-color: #f0f8ff;border: 1px dotted black;border-radius: 0.25em;box-sizing: border-box;margin-bottom: 0.5em;}#sk-container-id-9 div.sk-estimator:hover {background-color: #d4ebff;}#sk-container-id-9 div.sk-parallel-item::after {content: \"\";width: 100%;border-bottom: 1px solid gray;flex-grow: 1;}#sk-container-id-9 div.sk-label:hover label.sk-toggleable__label {background-color: #d4ebff;}#sk-container-id-9 div.sk-serial::before {content: \"\";position: absolute;border-left: 1px solid gray;box-sizing: border-box;top: 0;bottom: 0;left: 50%;z-index: 0;}#sk-container-id-9 div.sk-serial {display: flex;flex-direction: column;align-items: center;background-color: white;padding-right: 0.2em;padding-left: 0.2em;position: relative;}#sk-container-id-9 div.sk-item {position: relative;z-index: 1;}#sk-container-id-9 div.sk-parallel {display: flex;align-items: stretch;justify-content: center;background-color: white;position: relative;}#sk-container-id-9 div.sk-item::before, #sk-container-id-9 div.sk-parallel-item::before {content: \"\";position: absolute;border-left: 1px solid gray;box-sizing: border-box;top: 0;bottom: 0;left: 50%;z-index: -1;}#sk-container-id-9 div.sk-parallel-item {display: flex;flex-direction: column;z-index: 1;position: relative;background-color: white;}#sk-container-id-9 div.sk-parallel-item:first-child::after {align-self: flex-end;width: 50%;}#sk-container-id-9 div.sk-parallel-item:last-child::after {align-self: flex-start;width: 50%;}#sk-container-id-9 div.sk-parallel-item:only-child::after {width: 0;}#sk-container-id-9 div.sk-dashed-wrapped {border: 1px dashed gray;margin: 0 0.4em 0.5em 0.4em;box-sizing: border-box;padding-bottom: 0.4em;background-color: white;}#sk-container-id-9 div.sk-label label {font-family: monospace;font-weight: bold;display: inline-block;line-height: 1.2em;}#sk-container-id-9 div.sk-label-container {text-align: center;}#sk-container-id-9 div.sk-container {/* jupyter's `normalize.less` sets `[hidden] { display: none; }` but bootstrap.min.css set `[hidden] { display: none !important; }` so we also need the `!important` here to be able to override the default hidden behavior on the sphinx rendered scikit-learn.org. See: https://github.com/scikit-learn/scikit-learn/issues/21755 */display: inline-block !important;position: relative;}#sk-container-id-9 div.sk-text-repr-fallback {display: none;}</style><div id=\"sk-container-id-9\" class=\"sk-top-container\"><div class=\"sk-text-repr-fallback\"><pre>GridSearchCV(cv=5, estimator=GradientBoostingRegressor(),\n",
       "             param_grid={&#x27;max_depth&#x27;: [3, 4, 5, 6],\n",
       "                         &#x27;n_estimators&#x27;: [1, 5, 10, 20, 40, 100]},\n",
       "             scoring=&#x27;neg_mean_squared_error&#x27;, verbose=2)</pre><b>In a Jupyter environment, please rerun this cell to show the HTML representation or trust the notebook. <br />On GitHub, the HTML representation is unable to render, please try loading this page with nbviewer.org.</b></div><div class=\"sk-container\" hidden><div class=\"sk-item sk-dashed-wrapped\"><div class=\"sk-label-container\"><div class=\"sk-label sk-toggleable\"><input class=\"sk-toggleable__control sk-hidden--visually\" id=\"sk-estimator-id-15\" type=\"checkbox\" ><label for=\"sk-estimator-id-15\" class=\"sk-toggleable__label sk-toggleable__label-arrow\">GridSearchCV</label><div class=\"sk-toggleable__content\"><pre>GridSearchCV(cv=5, estimator=GradientBoostingRegressor(),\n",
       "             param_grid={&#x27;max_depth&#x27;: [3, 4, 5, 6],\n",
       "                         &#x27;n_estimators&#x27;: [1, 5, 10, 20, 40, 100]},\n",
       "             scoring=&#x27;neg_mean_squared_error&#x27;, verbose=2)</pre></div></div></div><div class=\"sk-parallel\"><div class=\"sk-parallel-item\"><div class=\"sk-item\"><div class=\"sk-label-container\"><div class=\"sk-label sk-toggleable\"><input class=\"sk-toggleable__control sk-hidden--visually\" id=\"sk-estimator-id-16\" type=\"checkbox\" ><label for=\"sk-estimator-id-16\" class=\"sk-toggleable__label sk-toggleable__label-arrow\">estimator: GradientBoostingRegressor</label><div class=\"sk-toggleable__content\"><pre>GradientBoostingRegressor()</pre></div></div></div><div class=\"sk-serial\"><div class=\"sk-item\"><div class=\"sk-estimator sk-toggleable\"><input class=\"sk-toggleable__control sk-hidden--visually\" id=\"sk-estimator-id-17\" type=\"checkbox\" ><label for=\"sk-estimator-id-17\" class=\"sk-toggleable__label sk-toggleable__label-arrow\">GradientBoostingRegressor</label><div class=\"sk-toggleable__content\"><pre>GradientBoostingRegressor()</pre></div></div></div></div></div></div></div></div></div></div>"
      ],
      "text/plain": [
       "GridSearchCV(cv=5, estimator=GradientBoostingRegressor(),\n",
       "             param_grid={'max_depth': [3, 4, 5, 6],\n",
       "                         'n_estimators': [1, 5, 10, 20, 40, 100]},\n",
       "             scoring='neg_mean_squared_error', verbose=2)"
      ]
     },
     "execution_count": 101,
     "metadata": {},
     "output_type": "execute_result"
    }
   ],
   "source": [
    "grid_model = GridSearchCV(estimator=model,\n",
    "                          param_grid=param_grid,\n",
    "                          scoring='neg_mean_squared_error',\n",
    "                          cv=5,\n",
    "                          verbose=2)\n",
    "grid_model.fit(X_train,y_train)"
   ]
  },
  {
   "cell_type": "code",
   "execution_count": 102,
   "id": "6497bd8e-5b6f-4251-b320-f35bab36768a",
   "metadata": {},
   "outputs": [],
   "source": [
    "y_pred = grid_model.predict(X_test)"
   ]
  },
  {
   "cell_type": "code",
   "execution_count": 103,
   "id": "790790f2-2c62-4c07-8573-92a22cd1ed76",
   "metadata": {},
   "outputs": [
    {
     "name": "stdout",
     "output_type": "stream",
     "text": [
      "MAE: 1238.252744341978\n",
      "RMSE: 2374.2525293535\n",
      "Absolute Error Percentage: 6.9%\n",
      "Quadratic Error Percentage: 13.1%\n"
     ]
    }
   ],
   "source": [
    "show_stat(y_test, y_pred)"
   ]
  },
  {
   "cell_type": "code",
   "execution_count": 104,
   "id": "d512e4ef-69e5-43e3-988f-888926d5f9b6",
   "metadata": {},
   "outputs": [],
   "source": [
    "final_model = GradientBoostingRegressor(**grid_model.best_estimator_.get_params())"
   ]
  },
  {
   "cell_type": "code",
   "execution_count": 105,
   "id": "e85bccf3-07b6-43bc-89eb-5484a144ea24",
   "metadata": {},
   "outputs": [
    {
     "data": {
      "text/html": [
       "<style>#sk-container-id-10 {color: black;}#sk-container-id-10 pre{padding: 0;}#sk-container-id-10 div.sk-toggleable {background-color: white;}#sk-container-id-10 label.sk-toggleable__label {cursor: pointer;display: block;width: 100%;margin-bottom: 0;padding: 0.3em;box-sizing: border-box;text-align: center;}#sk-container-id-10 label.sk-toggleable__label-arrow:before {content: \"▸\";float: left;margin-right: 0.25em;color: #696969;}#sk-container-id-10 label.sk-toggleable__label-arrow:hover:before {color: black;}#sk-container-id-10 div.sk-estimator:hover label.sk-toggleable__label-arrow:before {color: black;}#sk-container-id-10 div.sk-toggleable__content {max-height: 0;max-width: 0;overflow: hidden;text-align: left;background-color: #f0f8ff;}#sk-container-id-10 div.sk-toggleable__content pre {margin: 0.2em;color: black;border-radius: 0.25em;background-color: #f0f8ff;}#sk-container-id-10 input.sk-toggleable__control:checked~div.sk-toggleable__content {max-height: 200px;max-width: 100%;overflow: auto;}#sk-container-id-10 input.sk-toggleable__control:checked~label.sk-toggleable__label-arrow:before {content: \"▾\";}#sk-container-id-10 div.sk-estimator input.sk-toggleable__control:checked~label.sk-toggleable__label {background-color: #d4ebff;}#sk-container-id-10 div.sk-label input.sk-toggleable__control:checked~label.sk-toggleable__label {background-color: #d4ebff;}#sk-container-id-10 input.sk-hidden--visually {border: 0;clip: rect(1px 1px 1px 1px);clip: rect(1px, 1px, 1px, 1px);height: 1px;margin: -1px;overflow: hidden;padding: 0;position: absolute;width: 1px;}#sk-container-id-10 div.sk-estimator {font-family: monospace;background-color: #f0f8ff;border: 1px dotted black;border-radius: 0.25em;box-sizing: border-box;margin-bottom: 0.5em;}#sk-container-id-10 div.sk-estimator:hover {background-color: #d4ebff;}#sk-container-id-10 div.sk-parallel-item::after {content: \"\";width: 100%;border-bottom: 1px solid gray;flex-grow: 1;}#sk-container-id-10 div.sk-label:hover label.sk-toggleable__label {background-color: #d4ebff;}#sk-container-id-10 div.sk-serial::before {content: \"\";position: absolute;border-left: 1px solid gray;box-sizing: border-box;top: 0;bottom: 0;left: 50%;z-index: 0;}#sk-container-id-10 div.sk-serial {display: flex;flex-direction: column;align-items: center;background-color: white;padding-right: 0.2em;padding-left: 0.2em;position: relative;}#sk-container-id-10 div.sk-item {position: relative;z-index: 1;}#sk-container-id-10 div.sk-parallel {display: flex;align-items: stretch;justify-content: center;background-color: white;position: relative;}#sk-container-id-10 div.sk-item::before, #sk-container-id-10 div.sk-parallel-item::before {content: \"\";position: absolute;border-left: 1px solid gray;box-sizing: border-box;top: 0;bottom: 0;left: 50%;z-index: -1;}#sk-container-id-10 div.sk-parallel-item {display: flex;flex-direction: column;z-index: 1;position: relative;background-color: white;}#sk-container-id-10 div.sk-parallel-item:first-child::after {align-self: flex-end;width: 50%;}#sk-container-id-10 div.sk-parallel-item:last-child::after {align-self: flex-start;width: 50%;}#sk-container-id-10 div.sk-parallel-item:only-child::after {width: 0;}#sk-container-id-10 div.sk-dashed-wrapped {border: 1px dashed gray;margin: 0 0.4em 0.5em 0.4em;box-sizing: border-box;padding-bottom: 0.4em;background-color: white;}#sk-container-id-10 div.sk-label label {font-family: monospace;font-weight: bold;display: inline-block;line-height: 1.2em;}#sk-container-id-10 div.sk-label-container {text-align: center;}#sk-container-id-10 div.sk-container {/* jupyter's `normalize.less` sets `[hidden] { display: none; }` but bootstrap.min.css set `[hidden] { display: none !important; }` so we also need the `!important` here to be able to override the default hidden behavior on the sphinx rendered scikit-learn.org. See: https://github.com/scikit-learn/scikit-learn/issues/21755 */display: inline-block !important;position: relative;}#sk-container-id-10 div.sk-text-repr-fallback {display: none;}</style><div id=\"sk-container-id-10\" class=\"sk-top-container\"><div class=\"sk-text-repr-fallback\"><pre>GradientBoostingRegressor(max_depth=6)</pre><b>In a Jupyter environment, please rerun this cell to show the HTML representation or trust the notebook. <br />On GitHub, the HTML representation is unable to render, please try loading this page with nbviewer.org.</b></div><div class=\"sk-container\" hidden><div class=\"sk-item\"><div class=\"sk-estimator sk-toggleable\"><input class=\"sk-toggleable__control sk-hidden--visually\" id=\"sk-estimator-id-18\" type=\"checkbox\" checked><label for=\"sk-estimator-id-18\" class=\"sk-toggleable__label sk-toggleable__label-arrow\">GradientBoostingRegressor</label><div class=\"sk-toggleable__content\"><pre>GradientBoostingRegressor(max_depth=6)</pre></div></div></div></div></div>"
      ],
      "text/plain": [
       "GradientBoostingRegressor(max_depth=6)"
      ]
     },
     "execution_count": 105,
     "metadata": {},
     "output_type": "execute_result"
    }
   ],
   "source": [
    "final_model.fit(scaled_X, y)"
   ]
  },
  {
   "cell_type": "code",
   "execution_count": 106,
   "id": "6c5a314c-2fef-4726-bd1c-880774fe8660",
   "metadata": {},
   "outputs": [
    {
     "name": "stdout",
     "output_type": "stream",
     "text": [
      "MAE: 1148.9950223808182\n",
      "RMSE: 2153.22583686476\n",
      "Absolute Error Percentage: 6.4%\n",
      "Quadratic Error Percentage: 11.9%\n"
     ]
    }
   ],
   "source": [
    "y_pred = final_model.predict(X_test)\n",
    "show_stat(y_test, y_pred)"
   ]
  },
  {
   "cell_type": "code",
   "execution_count": 107,
   "id": "7efa67fa-ae8c-4325-87e4-20ee25d268c5",
   "metadata": {},
   "outputs": [
    {
     "data": {
      "text/plain": [
       "['models/gradient_boosting.joblib']"
      ]
     },
     "execution_count": 107,
     "metadata": {},
     "output_type": "execute_result"
    }
   ],
   "source": [
    "joblib.dump(final_model, 'models/gradient_boosting.joblib')"
   ]
  }
 ],
 "metadata": {
  "kernelspec": {
   "display_name": "Python 3 (ipykernel)",
   "language": "python",
   "name": "python3"
  },
  "language_info": {
   "codemirror_mode": {
    "name": "ipython",
    "version": 3
   },
   "file_extension": ".py",
   "mimetype": "text/x-python",
   "name": "python",
   "nbconvert_exporter": "python",
   "pygments_lexer": "ipython3",
   "version": "3.9.5"
  }
 },
 "nbformat": 4,
 "nbformat_minor": 5
}
